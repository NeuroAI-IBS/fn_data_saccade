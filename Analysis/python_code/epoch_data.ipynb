{
 "cells": [
  {
   "cell_type": "code",
   "execution_count": 1,
   "id": "06f63ffe-c540-4f20-a537-a1f3fb9c8c83",
   "metadata": {
    "execution": {
     "iopub.execute_input": "2025-03-31T07:00:56.082439Z",
     "iopub.status.busy": "2025-03-31T07:00:56.081937Z",
     "iopub.status.idle": "2025-03-31T07:00:56.280019Z",
     "shell.execute_reply": "2025-03-31T07:00:56.278513Z",
     "shell.execute_reply.started": "2025-03-31T07:00:56.082439Z"
    },
    "tags": []
   },
   "outputs": [],
   "source": [
    "import os\n",
    "import numpy as np\n",
    "import scipy.io as sio\n",
    "\n",
    "# Set type\n",
    "reject_trials = True  # True is reject minus trial else keep it original\n",
    "\n",
    "# Set epoch period\n",
    "Ts = 1000  # Sampling rate\n",
    "epoch_setting = np.array([-300, 300]) / 1000  # in seconds\n",
    "eset = np.abs(np.round(epoch_setting * Ts)).astype(int)\n",
    "\n",
    "# Load data list\n",
    "path = r'C:\\Users\\Jisub\\Desktop\\Saccadic\\left\\data'\n",
    "file_list = sorted(os.listdir(path))\n",
    "del file_list[5]  # Remove 6th file"
   ]
  },
  {
   "cell_type": "code",
   "execution_count": 2,
   "id": "477c4cfa-654f-4894-a24e-01b487a07c2a",
   "metadata": {
    "execution": {
     "iopub.execute_input": "2025-03-31T07:00:57.935501Z",
     "iopub.status.busy": "2025-03-31T07:00:57.935501Z",
     "iopub.status.idle": "2025-03-31T07:02:20.975841Z",
     "shell.execute_reply": "2025-03-31T07:02:20.974720Z",
     "shell.execute_reply.started": "2025-03-31T07:00:57.935501Z"
    },
    "tags": []
   },
   "outputs": [
    {
     "name": "stderr",
     "output_type": "stream",
     "text": [
      "C:\\Users\\Jisub\\AppData\\Local\\Programs\\Python\\Python310\\lib\\site-packages\\numpy\\lib\\function_base.py:5386: VisibleDeprecationWarning: Creating an ndarray from ragged nested sequences (which is a list-or-tuple of lists-or-tuples-or ndarrays with different lengths or shapes) is deprecated. If you meant to do this, you must specify 'dtype=object' when creating the ndarray.\n",
      "  arr = asanyarray(arr)\n"
     ]
    }
   ],
   "source": [
    "total_epoch = []\n",
    "\n",
    "for fname in file_list:\n",
    "    data = sio.loadmat(os.path.join(path, fname), squeeze_me=True)\n",
    "    \n",
    "    Saccade = data['Saccade']\n",
    "    T0 = data['T1']\n",
    "    T1 = T0.toarray()\n",
    "    TargetX = data['TargetX']\n",
    "    TargetY = data['TargetY']\n",
    "    \n",
    "    s_amp = [s['amplitude'] for s in Saccade]\n",
    "    s_start = [s['start'] for s in Saccade]\n",
    "    s_dur = [s['duration'] for s in Saccade]\n",
    "    Time = T1.shape[1]\n",
    "\n",
    "    # Find epoch time point by stimulus\n",
    "    sti_epoch = []\n",
    "    for x, y in zip(TargetX, TargetY):\n",
    "        temp = np.abs(x) + np.abs(y)\n",
    "        idx = np.argmax(temp > 1)\n",
    "        sti_epoch.append(idx)\n",
    "    \n",
    "    # Find epoch time point by saccade    \n",
    "    final_epoch = []\n",
    "    for t_num in range(len(s_amp)):\n",
    "        s_ampI = np.array(s_amp[t_num])\n",
    "        temp_amp = np.zeros(np.size(s_ampI), dtype=bool)\n",
    "        star_idx=s_start[t_num]<500; # before onset\n",
    "        s_ampI[star_idx]=0;\n",
    "\n",
    "        if np.max(s_ampI)>7:\n",
    "            I = np.argmax(s_ampI)\n",
    "            temp_amp[I] = True\n",
    "\n",
    "        if sum(temp_amp)==0:\n",
    "            c_label=0;\n",
    "        else:\n",
    "            c_label=1;\n",
    "\n",
    "        if len(temp_amp) < 2:\n",
    "            if temp_amp == True:\n",
    "                temp_start = s_start[t_num]\n",
    "                temp_dur = s_dur[t_num]\n",
    "            elif temp_amp == False:\n",
    "                temp_start = np.array([])\n",
    "                temp_dur = np.array([])\n",
    "        else:\n",
    "            temp_start = s_start[t_num][temp_amp]\n",
    "            temp_dur = s_dur[t_num][temp_amp]\n",
    "\n",
    "        final_epoch.append([t_num, temp_amp, temp_start, c_label, temp_dur])\n",
    "    \n",
    "    final_epochtime = []\n",
    "    for t_num in range(len(final_epoch)):\n",
    "\n",
    "        temp_epoch = final_epoch[t_num]\n",
    "        stif_epoch = sti_epoch[t_num]        \n",
    "        if temp_epoch[3] == 0:\n",
    "            continue\n",
    "\n",
    "        temp_times = temp_epoch[2]\n",
    "        temp_dur = temp_epoch[4]        \n",
    "\n",
    "        final_ep=[]\n",
    "        final_ep2=np.array([stif_epoch-eset[0], stif_epoch+eset[1]])\n",
    "        if np.size(temp_times) < 2:\n",
    "            temp_priod=[temp_times-eset[0], temp_times+eset[1], temp_epoch[0], temp_dur]\n",
    "            final_ep.append(temp_priod)\n",
    "        else:\n",
    "            for len_epo in range(len(temp_times)):\n",
    "                temp_priod=[temp_times[len_epo]-eset[0], temp_times[len_epo]+eset[1], temp_epoch[0], temp_dur]\n",
    "                final_ep.append(temp_priod)\n",
    "\n",
    "        final_epochtime.append(np.append(final_ep[0], final_ep2))\n",
    "\n",
    "    final_epochtime=np.array(final_epochtime, dtype=object).astype(int)\n",
    "    \n",
    "\n",
    "    if reject_trials:\n",
    "        valid = (final_epochtime[:,0] > 0) & (final_epochtime[:,1] <= Time)\n",
    "        final_epochtime2 = final_epochtime[valid]\n",
    "    else:\n",
    "        final_epochtime2 = final_epochtime\n",
    "\n",
    "    total_epoch.append([\n",
    "        final_epoch,\n",
    "        final_epochtime2,\n",
    "        len(final_epochtime2),\n",
    "        len(final_epochtime) - len(final_epochtime2),\n",
    "        fname,\n",
    "        sti_epoch\n",
    "    ])\n",
    "    \n",
    "total_epoch=np.array(total_epoch,dtype=object)"
   ]
  },
  {
   "cell_type": "code",
   "execution_count": 3,
   "id": "5189895d-c2d9-41e0-979b-099302809e1b",
   "metadata": {
    "execution": {
     "iopub.execute_input": "2025-03-31T07:02:35.611240Z",
     "iopub.status.busy": "2025-03-31T07:02:35.610618Z",
     "iopub.status.idle": "2025-03-31T07:02:36.203843Z",
     "shell.execute_reply": "2025-03-31T07:02:36.202155Z",
     "shell.execute_reply.started": "2025-03-31T07:02:35.611240Z"
    },
    "tags": []
   },
   "outputs": [],
   "source": [
    "# Save the result\n",
    "os.chdir(r'C:\\Users\\Jisub\\Desktop\\Saccadic\\python_code')\n",
    "np.save('epoch_setting.npy',total_epoch)"
   ]
  },
  {
   "cell_type": "code",
   "execution_count": null,
   "id": "629d8656-0787-4f35-af2c-18a51e7cc8ff",
   "metadata": {},
   "outputs": [],
   "source": []
  }
 ],
 "metadata": {
  "kernelspec": {
   "display_name": "Python 3 (ipykernel)",
   "language": "python",
   "name": "python3"
  },
  "language_info": {
   "codemirror_mode": {
    "name": "ipython",
    "version": 3
   },
   "file_extension": ".py",
   "mimetype": "text/x-python",
   "name": "python",
   "nbconvert_exporter": "python",
   "pygments_lexer": "ipython3",
   "version": "3.10.2"
  }
 },
 "nbformat": 4,
 "nbformat_minor": 5
}
