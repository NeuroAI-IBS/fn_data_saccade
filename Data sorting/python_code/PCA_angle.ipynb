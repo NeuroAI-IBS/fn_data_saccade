{
 "cells": [
  {
   "cell_type": "code",
   "execution_count": 1,
   "id": "4322d57a-cec8-4433-8d94-b11c49275c4f",
   "metadata": {},
   "outputs": [],
   "source": [
    "import numpy as np\n",
    "import pandas as pd\n",
    "from pandas import DataFrame as df\n",
    "import matplotlib.pyplot as plt\n",
    "import analysis_pca\n",
    "\n",
    "Ts = 1000\n",
    "data_path = r'C:\\Users\\IBS\\Desktop\\python_code_N2'\n",
    "save_path = r'C:\\Users\\IBS\\Desktop\\figures'"
   ]
  },
  {
   "cell_type": "code",
   "execution_count": 18,
   "id": "5f53c3ea-94e9-4099-b514-da9e14fc53dd",
   "metadata": {
    "scrolled": true
   },
   "outputs": [
    {
     "name": "stdout",
     "output_type": "stream",
     "text": [
      "Dimensions: 1, Variance explained: 75.06%\n",
      "Dimensions: 2, Variance explained: 85.13%\n",
      "Dimensions: 3, Variance explained: 90.34%\n",
      "Dimensions: 4, Variance explained: 93.95%\n",
      "Dimensions: 5, Variance explained: 96.15%\n",
      "Dimensions to be reduced: 3\n"
     ]
    }
   ],
   "source": [
    "#For FN angle averaged PCA\n",
    "\n",
    "import pre_processing\n",
    "\n",
    "ppss = pre_processing.pre_processing(Ts, data_path, save_path)\n",
    "[final_cat, data_cat, val_cat, dur_cat, rejectedXY_cat] = ppss.datasorting_orientation(1)\n",
    "apca = analysis_pca.analysis_pca(Ts, data_cat, save_path)\n",
    "data_cat_sm = apca.smoothing_data()  # Smoothed data\n",
    "data = np.mean(data_cat_sm, axis=0)  # Anagle averged data\n",
    "PCA_total = apca.pca_analy(data)  # PCA\n",
    "\n",
    "Wa = PCA_total['v'][:4]  # Wight matrix from angle averaged PCA"
   ]
  },
  {
   "cell_type": "code",
   "execution_count": 38,
   "id": "f07f1c1d-09ba-4dfa-b3cd-e6fe76e768b1",
   "metadata": {
    "scrolled": true
   },
   "outputs": [],
   "source": [
    "#Muliply weight matrix to each angle data\n",
    "\n",
    "final_out = []\n",
    "for a in range(8):\n",
    "    out = Wa @ data_cat_sm[0]\n",
    "    final_out.append(out)\n",
    "\n",
    "final_out = np.array(final_out)"
   ]
  },
  {
   "cell_type": "code",
   "execution_count": 39,
   "id": "a716298f-c065-4286-a1c2-07bbb4dca6be",
   "metadata": {},
   "outputs": [
    {
     "data": {
      "text/plain": [
       "(8, 4, 600)"
      ]
     },
     "execution_count": 39,
     "metadata": {},
     "output_type": "execute_result"
    }
   ],
   "source": [
    "# Plotting\n",
    "\n",
    "plt.plot(final_out[])"
   ]
  },
  {
   "cell_type": "code",
   "execution_count": null,
   "id": "0200dfc5-0b70-40a0-93ef-a938e9634fd8",
   "metadata": {},
   "outputs": [],
   "source": [
    "Wa "
   ]
  }
 ],
 "metadata": {
  "kernelspec": {
   "display_name": "Python 3 (ipykernel)",
   "language": "python",
   "name": "python3"
  },
  "language_info": {
   "codemirror_mode": {
    "name": "ipython",
    "version": 3
   },
   "file_extension": ".py",
   "mimetype": "text/x-python",
   "name": "python",
   "nbconvert_exporter": "python",
   "pygments_lexer": "ipython3",
   "version": "3.13.3"
  }
 },
 "nbformat": 4,
 "nbformat_minor": 5
}
