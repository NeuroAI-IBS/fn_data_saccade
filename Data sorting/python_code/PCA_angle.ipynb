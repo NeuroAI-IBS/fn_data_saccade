{
 "cells": [
  {
   "cell_type": "code",
   "execution_count": 1,
   "id": "4322d57a-cec8-4433-8d94-b11c49275c4f",
   "metadata": {},
   "outputs": [],
   "source": [
    "import numpy as np\n",
    "import pandas as pd\n",
    "from pandas import DataFrame as df\n",
    "import matplotlib.pyplot as plt\n",
    "import analysis_pca\n",
    "\n",
    "Ts = 1000\n",
    "data_path = r'C:\\Users\\IBS\\Desktop\\python_code_N2'\n",
    "save_path = r'C:\\Users\\IBS\\Desktop\\figures'"
   ]
  },
  {
   "cell_type": "code",
   "execution_count": 18,
   "id": "5f53c3ea-94e9-4099-b514-da9e14fc53dd",
   "metadata": {
    "scrolled": true
   },
   "outputs": [
    {
     "name": "stdout",
     "output_type": "stream",
     "text": [
      "Dimensions: 1, Variance explained: 75.06%\n",
      "Dimensions: 2, Variance explained: 85.13%\n",
      "Dimensions: 3, Variance explained: 90.34%\n",
      "Dimensions: 4, Variance explained: 93.95%\n",
      "Dimensions: 5, Variance explained: 96.15%\n",
      "Dimensions to be reduced: 3\n"
     ]
    }
   ],
   "source": [
    "#For FN angle averaged PCA\n",
    "\n",
    "import pre_processing\n",
    "\n",
    "ppss = pre_processing.pre_processing(Ts, data_path, save_path)\n",
    "[final_cat, data_cat, val_cat, dur_cat, rejectedXY_cat] = ppss.datasorting_orientation(1)\n",
    "apca = analysis_pca.analysis_pca(Ts, data_cat, save_path)\n",
    "data_cat_sm = apca.smoothing_data()\n",
    "data = np.mean(data_cat_sm, axis=0)\n",
    "PCA_total = apca.pca_analy(data)"
   ]
  },
  {
   "cell_type": "code",
   "execution_count": 19,
   "id": "f07f1c1d-09ba-4dfa-b3cd-e6fe76e768b1",
   "metadata": {},
   "outputs": [
    {
     "data": {
      "text/plain": [
       "{'v': array([[ 3.56921112e-02,  6.86971427e-02,  7.15129844e-02, ...,\n",
       "          2.23188134e-01,  1.92497169e-01,  1.82150004e-01],\n",
       "        [ 5.64687435e-01,  1.39666927e-01, -1.30859521e-01, ...,\n",
       "          4.25919533e-01, -9.03386482e-02, -4.19257496e-02],\n",
       "        [ 1.97805521e-01,  6.86884333e-02, -5.31953603e-03, ...,\n",
       "          1.97473456e-01,  9.09445588e-02,  4.01965998e-02],\n",
       "        ...,\n",
       "        [-9.50703756e-03, -2.14307088e-02,  1.03132697e-01, ...,\n",
       "          3.24190352e-04,  9.15302328e-02, -3.02517427e-02],\n",
       "        [ 2.67393665e-02, -8.06822541e-03,  1.77579385e-01, ...,\n",
       "          2.28738514e-02,  2.27247006e-01, -1.02398735e-01],\n",
       "        [ 1.37380462e-01, -3.76940583e-02,  6.78977487e-02, ...,\n",
       "         -1.15318434e-01, -3.86509288e-02,  1.03784473e-01]],\n",
       "       shape=(67, 67)),\n",
       " 'p': array([[-5.59243649e-02,  2.02036556e-02,  4.04035745e-02, ...,\n",
       "          5.54706407e-04, -4.10090908e-04,  2.25117972e-05],\n",
       "        [-6.37006963e-02,  1.35556648e-02,  3.98692260e-02, ...,\n",
       "          1.36751129e-04, -1.39495405e-04, -5.02408913e-06],\n",
       "        [-7.10404169e-02,  7.21005060e-03,  3.94287008e-02, ...,\n",
       "         -2.34659154e-04,  8.92712178e-05, -2.61417819e-05],\n",
       "        ...,\n",
       "        [-7.92247547e-02,  5.64562611e-02, -3.52751242e-02, ...,\n",
       "         -7.57351191e-05,  3.26518456e-04,  1.67631660e-04],\n",
       "        [-7.60581231e-02,  6.10941916e-02, -3.43316566e-02, ...,\n",
       "         -3.02855593e-04,  2.12640010e-06,  6.02591426e-05],\n",
       "        [-7.25404050e-02,  6.59414194e-02, -3.32836076e-02, ...,\n",
       "         -5.49378122e-04, -3.71175785e-04, -6.24726047e-05]],\n",
       "       shape=(600, 67)),\n",
       " 'dd': array([7.50577577e-01, 1.00726415e-01, 5.20855133e-02, 3.60916521e-02,\n",
       "        2.20630775e-02, 1.16091384e-02, 4.74387678e-03, 4.55095615e-03,\n",
       "        2.76896038e-03, 1.90457243e-03, 1.76531400e-03, 1.31372922e-03,\n",
       "        9.88549931e-04, 8.13957555e-04, 6.98686714e-04, 6.12968108e-04,\n",
       "        5.14878790e-04, 4.42958669e-04, 4.13814618e-04, 3.93360064e-04,\n",
       "        3.77586113e-04, 3.47647438e-04, 3.23300462e-04, 2.94766640e-04,\n",
       "        2.77108380e-04, 2.65580496e-04, 2.58582078e-04, 2.30964019e-04,\n",
       "        2.00658307e-04, 1.84775376e-04, 1.71951838e-04, 1.60134769e-04,\n",
       "        1.51417798e-04, 1.42879055e-04, 1.33189606e-04, 1.17203079e-04,\n",
       "        1.11595969e-04, 1.03122873e-04, 1.00797748e-04, 9.50455918e-05,\n",
       "        8.56287955e-05, 7.89639053e-05, 7.39949981e-05, 6.54591148e-05,\n",
       "        5.92394088e-05, 5.51224053e-05, 5.09169597e-05, 4.85507255e-05,\n",
       "        4.22353462e-05, 4.05084810e-05, 3.44346524e-05, 3.04616558e-05,\n",
       "        2.83256935e-05, 2.55231468e-05, 2.14564470e-05, 1.95285049e-05,\n",
       "        1.91081577e-05, 1.63434075e-05, 1.40080065e-05, 1.17400731e-05,\n",
       "        1.10415215e-05, 9.69667201e-06, 8.90197765e-06, 6.78531106e-06,\n",
       "        6.06790656e-06, 4.29228408e-06, 3.40026449e-06])}"
      ]
     },
     "execution_count": 19,
     "metadata": {},
     "output_type": "execute_result"
    }
   ],
   "source": [
    "PCA_total"
   ]
  },
  {
   "cell_type": "code",
   "execution_count": null,
   "id": "7979a221-19f8-4bd1-adc7-1a152fd12c6f",
   "metadata": {},
   "outputs": [],
   "source": []
  }
 ],
 "metadata": {
  "kernelspec": {
   "display_name": "Python 3 (ipykernel)",
   "language": "python",
   "name": "python3"
  },
  "language_info": {
   "codemirror_mode": {
    "name": "ipython",
    "version": 3
   },
   "file_extension": ".py",
   "mimetype": "text/x-python",
   "name": "python",
   "nbconvert_exporter": "python",
   "pygments_lexer": "ipython3",
   "version": "3.13.3"
  }
 },
 "nbformat": 4,
 "nbformat_minor": 5
}
