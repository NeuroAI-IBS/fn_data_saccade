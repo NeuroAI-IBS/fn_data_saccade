{
 "cells": [
  {
   "cell_type": "code",
   "execution_count": 1,
   "id": "09942896-f620-424d-97f2-0bdbe2fee113",
   "metadata": {
    "execution": {
     "iopub.execute_input": "2025-05-28T04:14:22.807842Z",
     "iopub.status.busy": "2025-05-28T04:14:22.807598Z",
     "iopub.status.idle": "2025-05-28T04:14:28.067708Z",
     "shell.execute_reply": "2025-05-28T04:14:28.067087Z",
     "shell.execute_reply.started": "2025-05-28T04:14:22.807828Z"
    }
   },
   "outputs": [],
   "source": [
    "import numpy as np\n",
    "import pandas as pd\n",
    "from scipy import optimize\n",
    "from pandas import DataFrame as df\n",
    "import matplotlib.pyplot as plt\n",
    "import analysis_pca\n",
    "from sklearn import linear_model\n",
    "\n",
    "Ts = 1000\n",
    "data_path = r'C:\\Users\\IBS\\Desktop\\python_code_N2'\n",
    "save_path = r'C:\\Users\\IBS\\Desktop\\figures'"
   ]
  },
  {
   "cell_type": "code",
   "execution_count": 2,
   "id": "9c08d1d4-667e-48a6-9c34-d621e12b88c0",
   "metadata": {
    "execution": {
     "iopub.execute_input": "2025-05-28T04:14:28.068608Z",
     "iopub.status.busy": "2025-05-28T04:14:28.068263Z",
     "iopub.status.idle": "2025-05-28T04:14:32.296993Z",
     "shell.execute_reply": "2025-05-28T04:14:32.296495Z",
     "shell.execute_reply.started": "2025-05-28T04:14:28.068597Z"
    }
   },
   "outputs": [],
   "source": [
    "# Path to your Excel file\n",
    "SOURCE_DATA_SF3 = 'SupplementaryFigure3.xlsx'\n",
    "\n",
    "# Read specific sheet and ranges\n",
    "mf = pd.read_excel(SOURCE_DATA_SF3, sheet_name='Figure S3b,c,d,f', usecols='A:HY', skiprows=2, nrows=502)\n",
    "pc = pd.read_excel(SOURCE_DATA_SF3, sheet_name='Figure S3b,c,d,f', usecols='HZ:TP', skiprows=2, nrows=502)\n",
    "\n",
    "# rate is ssc0, drate is wv0\n",
    "lm_MF = {\n",
    "    'rate': mf.iloc[:, 0:116].to_numpy().T,\n",
    "    'drate': mf.iloc[:, 116:232].to_numpy().T,\n",
    "    'v0': mf.iloc[0, 232],\n",
    "    'label': 'MF'\n",
    "}\n",
    "\n",
    "lm_PC = {\n",
    "    'rate': pc.iloc[:, 0:151].to_numpy().T,\n",
    "    'drate': pc.iloc[:, 151:302].to_numpy().T,\n",
    "    'v0': pc.iloc[0, 302],\n",
    "    'label': 'PC'\n",
    "}\n",
    "\n",
    "# for analyze data\n",
    "data_mf = lm_MF['rate']\n",
    "data_pc = lm_PC['rate']"
   ]
  },
  {
   "cell_type": "code",
   "execution_count": 3,
   "id": "8afa5973-364e-4b66-91b7-fbe64a6a128b",
   "metadata": {
    "execution": {
     "iopub.execute_input": "2025-05-28T04:14:32.297774Z",
     "iopub.status.busy": "2025-05-28T04:14:32.297635Z",
     "iopub.status.idle": "2025-05-28T04:14:33.964949Z",
     "shell.execute_reply": "2025-05-28T04:14:33.964434Z",
     "shell.execute_reply.started": "2025-05-28T04:14:32.297766Z"
    }
   },
   "outputs": [],
   "source": [
    "# Load FN cell data\n",
    "\n",
    "import pre_processing\n",
    "\n",
    "ppss = pre_processing.pre_processing(Ts, data_path, save_path)\n",
    "[final_cat, data_cat, val_cat, dur_cat, rejectedXY_cat] = ppss.datasorting_orientation(1)\n",
    "\n",
    "apca = analysis_pca.analysis_pca(Ts, data_cat, save_path)\n",
    "data_cat_sm = apca.smoothing_data()\n",
    "data_fn = np.mean(data_cat_sm, axis=0)"
   ]
  },
  {
   "cell_type": "code",
   "execution_count": 64,
   "id": "892a1021-8e99-476b-892d-099faa198b53",
   "metadata": {
    "execution": {
     "iopub.execute_input": "2025-05-28T07:33:18.397552Z",
     "iopub.status.busy": "2025-05-28T07:33:18.397256Z",
     "iopub.status.idle": "2025-05-28T07:33:18.402679Z",
     "shell.execute_reply": "2025-05-28T07:33:18.402307Z",
     "shell.execute_reply.started": "2025-05-28T07:33:18.397534Z"
    },
    "scrolled": true
   },
   "outputs": [],
   "source": [
    "sp_fn = []\n",
    "sp_size = []\n",
    "for a in range(len(data_cat)):\n",
    "\n",
    "    temp_cat = np.concatenate(data_cat[a])\n",
    "    sp_size.append(np.shape(temp_cat)[0])\n",
    "    sp_fn.append(temp_cat)\n",
    "\n",
    "sp_fn = np.array(sp_fn, dtype = object)\n",
    "sp_size = np.array(sp_size)"
   ]
  },
  {
   "cell_type": "code",
   "execution_count": 52,
   "id": "fdfe0577-6ef4-45fe-a6a9-7e1b0674415a",
   "metadata": {
    "execution": {
     "iopub.execute_input": "2025-05-28T07:28:13.645702Z",
     "iopub.status.busy": "2025-05-28T07:28:13.645373Z",
     "iopub.status.idle": "2025-05-28T07:28:13.648610Z",
     "shell.execute_reply": "2025-05-28T07:28:13.648256Z",
     "shell.execute_reply.started": "2025-05-28T07:28:13.645684Z"
    }
   },
   "outputs": [],
   "source": [
    "data_cat = np.array(data_cat)[:, :8]"
   ]
  },
  {
   "cell_type": "code",
   "execution_count": 58,
   "id": "d2bb9318-add8-450a-b1d6-db730d9f9f7c",
   "metadata": {
    "execution": {
     "iopub.execute_input": "2025-05-28T07:30:24.532530Z",
     "iopub.status.busy": "2025-05-28T07:30:24.532226Z",
     "iopub.status.idle": "2025-05-28T07:30:24.535865Z",
     "shell.execute_reply": "2025-05-28T07:30:24.535531Z",
     "shell.execute_reply.started": "2025-05-28T07:30:24.532511Z"
    }
   },
   "outputs": [
    {
     "data": {
      "text/plain": [
       "(307, 600)"
      ]
     },
     "execution_count": 58,
     "metadata": {},
     "output_type": "execute_result"
    }
   ],
   "source": [
    "np.concatenate(data_cat[1]).shape"
   ]
  },
  {
   "cell_type": "code",
   "execution_count": 50,
   "id": "c9d04fe2-cbb7-44d9-8279-058996977a07",
   "metadata": {
    "execution": {
     "iopub.execute_input": "2025-05-28T07:27:15.502007Z",
     "iopub.status.busy": "2025-05-28T07:27:15.501706Z",
     "iopub.status.idle": "2025-05-28T07:27:15.505713Z",
     "shell.execute_reply": "2025-05-28T07:27:15.505284Z",
     "shell.execute_reply.started": "2025-05-28T07:27:15.501987Z"
    }
   },
   "outputs": [
    {
     "data": {
      "text/plain": [
       "(67, 600)"
      ]
     },
     "execution_count": 50,
     "metadata": {},
     "output_type": "execute_result"
    }
   ],
   "source": [
    "np.shape(data_fn)"
   ]
  },
  {
   "cell_type": "code",
   "execution_count": 32,
   "id": "ad943f59-d121-4e41-8723-3feeeb77ca64",
   "metadata": {
    "execution": {
     "iopub.execute_input": "2025-05-28T07:16:12.588887Z",
     "iopub.status.busy": "2025-05-28T07:16:12.588495Z",
     "iopub.status.idle": "2025-05-28T07:16:12.592113Z",
     "shell.execute_reply": "2025-05-28T07:16:12.591598Z",
     "shell.execute_reply.started": "2025-05-28T07:16:12.588867Z"
    }
   },
   "outputs": [],
   "source": [
    "temp = data_cat[1][1]\n",
    "temp2 = data_cat_sm[1][1]"
   ]
  },
  {
   "cell_type": "code",
   "execution_count": 21,
   "id": "1c2e71db-a83e-4927-ad5e-fd393e78a246",
   "metadata": {
    "execution": {
     "iopub.execute_input": "2025-05-28T06:54:08.225064Z",
     "iopub.status.busy": "2025-05-28T06:54:08.224776Z",
     "iopub.status.idle": "2025-05-28T06:54:08.268801Z",
     "shell.execute_reply": "2025-05-28T06:54:08.268292Z",
     "shell.execute_reply.started": "2025-05-28T06:54:08.225046Z"
    }
   },
   "outputs": [
    {
     "data": {
      "text/plain": [
       "<matplotlib.image.AxesImage at 0x23d4c602490>"
      ]
     },
     "execution_count": 21,
     "metadata": {},
     "output_type": "execute_result"
    },
    {
     "data": {
      "image/png": "[encoded data removed]",
      "text/plain": [
       "<Figure size 640x480 with 1 Axes>"
      ]
     },
     "metadata": {},
     "output_type": "display_data"
    }
   ],
   "source": [
    "plt.imshow(temp)"
   ]
  },
  {
   "cell_type": "code",
   "execution_count": 30,
   "id": "4dd5200f-901a-414b-a43b-29c36e143d19",
   "metadata": {
    "execution": {
     "iopub.execute_input": "2025-05-28T07:10:45.748920Z",
     "iopub.status.busy": "2025-05-28T07:10:45.748668Z",
     "iopub.status.idle": "2025-05-28T07:10:45.752183Z",
     "shell.execute_reply": "2025-05-28T07:10:45.751706Z",
     "shell.execute_reply.started": "2025-05-28T07:10:45.748904Z"
    }
   },
   "outputs": [],
   "source": [
    "Total_p = temp.shape[0]"
   ]
  },
  {
   "cell_type": "code",
   "execution_count": 31,
   "id": "01a17f8e-4dba-42a8-bf13-6617fe4cadaa",
   "metadata": {
    "execution": {
     "iopub.execute_input": "2025-05-28T07:11:00.327516Z",
     "iopub.status.busy": "2025-05-28T07:11:00.326861Z",
     "iopub.status.idle": "2025-05-28T07:11:00.332952Z",
     "shell.execute_reply": "2025-05-28T07:11:00.332678Z",
     "shell.execute_reply.started": "2025-05-28T07:11:00.327485Z"
    },
    "scrolled": true
   },
   "outputs": [
    {
     "data": {
      "text/plain": [
       "array([0.02, 0.04, 0.02, 0.06, 0.02, 0.04, 0.04, 0.08, 0.  , 0.04, 0.02,\n",
       "       0.02, 0.  , 0.04, 0.  , 0.06, 0.  , 0.  , 0.06, 0.02, 0.02, 0.  ,\n",
       "       0.  , 0.  , 0.06, 0.04, 0.04, 0.06, 0.02, 0.06, 0.06, 0.06, 0.  ,\n",
       "       0.02, 0.06, 0.04, 0.02, 0.02, 0.02, 0.  , 0.02, 0.02, 0.06, 0.  ,\n",
       "       0.  , 0.06, 0.04, 0.08, 0.08, 0.04, 0.  , 0.  , 0.08, 0.  , 0.  ,\n",
       "       0.04, 0.06, 0.  , 0.02, 0.  , 0.02, 0.04, 0.04, 0.04, 0.04, 0.  ,\n",
       "       0.08, 0.04, 0.02, 0.02, 0.02, 0.06, 0.  , 0.02, 0.02, 0.02, 0.02,\n",
       "       0.04, 0.  , 0.02, 0.02, 0.04, 0.06, 0.06, 0.02, 0.02, 0.  , 0.06,\n",
       "       0.02, 0.04, 0.04, 0.  , 0.04, 0.  , 0.02, 0.08, 0.02, 0.  , 0.  ,\n",
       "       0.1 , 0.  , 0.  , 0.02, 0.06, 0.04, 0.  , 0.04, 0.  , 0.04, 0.06,\n",
       "       0.06, 0.  , 0.02, 0.  , 0.  , 0.02, 0.02, 0.04, 0.04, 0.02, 0.02,\n",
       "       0.02, 0.02, 0.02, 0.04, 0.04, 0.06, 0.02, 0.04, 0.  , 0.08, 0.  ,\n",
       "       0.04, 0.  , 0.04, 0.02, 0.  , 0.  , 0.  , 0.  , 0.  , 0.  , 0.04,\n",
       "       0.02, 0.02, 0.04, 0.02, 0.  , 0.  , 0.  , 0.  , 0.02, 0.06, 0.04,\n",
       "       0.06, 0.02, 0.02, 0.02, 0.  , 0.  , 0.  , 0.02, 0.  , 0.  , 0.  ,\n",
       "       0.02, 0.  , 0.02, 0.02, 0.02, 0.04, 0.  , 0.  , 0.04, 0.02, 0.  ,\n",
       "       0.  , 0.  , 0.02, 0.  , 0.  , 0.  , 0.  , 0.  , 0.  , 0.02, 0.  ,\n",
       "       0.02, 0.  , 0.04, 0.  , 0.04, 0.  , 0.  , 0.02, 0.  , 0.  , 0.02,\n",
       "       0.  , 0.02, 0.  , 0.  , 0.  , 0.  , 0.02, 0.  , 0.  , 0.  , 0.  ,\n",
       "       0.02, 0.02, 0.  , 0.02, 0.  , 0.  , 0.02, 0.  , 0.  , 0.  , 0.  ,\n",
       "       0.  , 0.  , 0.  , 0.  , 0.02, 0.  , 0.  , 0.  , 0.  , 0.02, 0.  ,\n",
       "       0.02, 0.  , 0.  , 0.  , 0.  , 0.  , 0.  , 0.  , 0.  , 0.  , 0.  ,\n",
       "       0.  , 0.  , 0.  , 0.  , 0.  , 0.  , 0.  , 0.  , 0.  , 0.  , 0.  ,\n",
       "       0.  , 0.  , 0.  , 0.  , 0.  , 0.  , 0.  , 0.  , 0.  , 0.  , 0.  ,\n",
       "       0.  , 0.  , 0.  , 0.  , 0.  , 0.  , 0.  , 0.  , 0.  , 0.  , 0.  ,\n",
       "       0.  , 0.  , 0.  , 0.  , 0.  , 0.  , 0.  , 0.  , 0.  , 0.  , 0.  ,\n",
       "       0.  , 0.  , 0.  , 0.  , 0.  , 0.  , 0.  , 0.  , 0.  , 0.  , 0.  ,\n",
       "       0.  , 0.  , 0.  , 0.  , 0.  , 0.  , 0.  , 0.  , 0.  , 0.  , 0.  ,\n",
       "       0.  , 0.  , 0.02, 0.04, 0.02, 0.06, 0.08, 0.06, 0.06, 0.02, 0.16,\n",
       "       0.02, 0.04, 0.06, 0.1 , 0.04, 0.16, 0.06, 0.06, 0.06, 0.12, 0.08,\n",
       "       0.04, 0.08, 0.12, 0.1 , 0.06, 0.16, 0.04, 0.22, 0.06, 0.02, 0.12,\n",
       "       0.12, 0.1 , 0.16, 0.06, 0.08, 0.16, 0.1 , 0.1 , 0.1 , 0.08, 0.06,\n",
       "       0.1 , 0.12, 0.12, 0.08, 0.04, 0.  , 0.06, 0.12, 0.1 , 0.08, 0.04,\n",
       "       0.06, 0.04, 0.16, 0.02, 0.08, 0.06, 0.06, 0.08, 0.08, 0.06, 0.08,\n",
       "       0.08, 0.  , 0.06, 0.04, 0.06, 0.06, 0.  , 0.12, 0.04, 0.1 , 0.08,\n",
       "       0.06, 0.14, 0.12, 0.  , 0.04, 0.08, 0.14, 0.04, 0.12, 0.04, 0.08,\n",
       "       0.04, 0.  , 0.  , 0.12, 0.06, 0.14, 0.02, 0.08, 0.12, 0.08, 0.06,\n",
       "       0.14, 0.06, 0.04, 0.04, 0.08, 0.06, 0.14, 0.04, 0.08, 0.08, 0.1 ,\n",
       "       0.08, 0.02, 0.16, 0.12, 0.14, 0.04, 0.04, 0.06, 0.1 , 0.06, 0.06,\n",
       "       0.08, 0.04, 0.1 , 0.06, 0.08, 0.1 , 0.06, 0.06, 0.  , 0.06, 0.08,\n",
       "       0.02, 0.1 , 0.06, 0.1 , 0.02, 0.06, 0.14, 0.04, 0.04, 0.1 , 0.06,\n",
       "       0.06, 0.08, 0.08, 0.04, 0.04, 0.1 , 0.04, 0.02, 0.08, 0.04, 0.1 ,\n",
       "       0.06, 0.1 , 0.1 , 0.08, 0.08, 0.02, 0.12, 0.  , 0.02, 0.08, 0.06,\n",
       "       0.04, 0.02, 0.04, 0.08, 0.04, 0.04, 0.08, 0.04, 0.02, 0.  , 0.02,\n",
       "       0.08, 0.02, 0.04, 0.08, 0.1 , 0.06, 0.02, 0.08, 0.06, 0.02, 0.02,\n",
       "       0.  , 0.08, 0.1 , 0.02, 0.06, 0.04, 0.04, 0.02, 0.02, 0.04, 0.02,\n",
       "       0.04, 0.04, 0.02, 0.08, 0.  , 0.02, 0.04, 0.12, 0.06, 0.04, 0.02,\n",
       "       0.04, 0.06, 0.04, 0.02, 0.02, 0.  , 0.02, 0.  , 0.08, 0.08, 0.04,\n",
       "       0.04, 0.02, 0.  , 0.  , 0.  , 0.06, 0.08, 0.06, 0.  , 0.  , 0.06,\n",
       "       0.04, 0.04, 0.  , 0.02, 0.12, 0.  , 0.06, 0.06, 0.04, 0.1 , 0.  ,\n",
       "       0.02, 0.  , 0.02, 0.08, 0.06, 0.04, 0.04, 0.06, 0.08, 0.04, 0.02,\n",
       "       0.04, 0.12, 0.  , 0.02, 0.02, 0.04, 0.04, 0.08, 0.06, 0.06, 0.04,\n",
       "       0.08, 0.02, 0.06, 0.1 , 0.08, 0.02, 0.04, 0.06, 0.02, 0.08, 0.04,\n",
       "       0.  , 0.1 , 0.06, 0.04, 0.06, 0.06, 0.06, 0.08, 0.1 , 0.02, 0.04,\n",
       "       0.04, 0.02, 0.12, 0.02, 0.04, 0.04])"
      ]
     },
     "execution_count": 31,
     "metadata": {},
     "output_type": "execute_result"
    }
   ],
   "source": [
    "SS / Total_p"
   ]
  },
  {
   "cell_type": "code",
   "execution_count": 24,
   "id": "bda39b8d-b415-4b3e-9906-67cd3b61ce57",
   "metadata": {
    "execution": {
     "iopub.execute_input": "2025-05-28T07:05:49.195077Z",
     "iopub.status.busy": "2025-05-28T07:05:49.194815Z",
     "iopub.status.idle": "2025-05-28T07:05:49.197876Z",
     "shell.execute_reply": "2025-05-28T07:05:49.197468Z",
     "shell.execute_reply.started": "2025-05-28T07:05:49.195060Z"
    }
   },
   "outputs": [],
   "source": [
    "SS = temp.sum(axis=0)"
   ]
  },
  {
   "cell_type": "code",
   "execution_count": 48,
   "id": "5e65826f-7e69-4715-83a7-53b215201dec",
   "metadata": {
    "execution": {
     "iopub.execute_input": "2025-05-28T07:22:49.592703Z",
     "iopub.status.busy": "2025-05-28T07:22:49.592200Z",
     "iopub.status.idle": "2025-05-28T07:22:49.595341Z",
     "shell.execute_reply": "2025-05-28T07:22:49.595026Z",
     "shell.execute_reply.started": "2025-05-28T07:22:49.592686Z"
    }
   },
   "outputs": [],
   "source": [
    "CS = temp.mean(axis=0)\n",
    "CS_idx = np.argsort(temp2)[::-1][0]"
   ]
  },
  {
   "cell_type": "code",
   "execution_count": 4,
   "id": "d2d878e4-f150-43d6-9334-28a6ec69e611",
   "metadata": {
    "execution": {
     "iopub.execute_input": "2025-05-28T04:14:33.965871Z",
     "iopub.status.busy": "2025-05-28T04:14:33.965571Z",
     "iopub.status.idle": "2025-05-28T04:14:35.282043Z",
     "shell.execute_reply": "2025-05-28T04:14:35.281700Z",
     "shell.execute_reply.started": "2025-05-28T04:14:33.965861Z"
    }
   },
   "outputs": [],
   "source": [
    "# Distance matrix by cross correlation\n",
    "\n",
    "from scipy import signal\n",
    "\n",
    "lags_total=[]\n",
    "for a in range(len(data_mf)):\n",
    "    \n",
    "    plags_total = []\n",
    "    for b in range(len(data_mf)):\n",
    "    \n",
    "        signal1 = data_mf[a]\n",
    "        signal2 = data_mf[b]\n",
    "        \n",
    "        # Calculate cross-correlation\n",
    "        cross_correlation = signal.correlate(signal1, signal2)\n",
    "        lags = signal.correlation_lags(len(signal1), len(signal2))\n",
    "    \n",
    "        m_idx = np.argmax(cross_correlation)\n",
    "        plags_total.append(lags[m_idx])\n",
    "    \n",
    "    lags_total.append(plags_total)\n",
    "lags_total = np.array(lags_total)\n",
    "    "
   ]
  },
  {
   "cell_type": "code",
   "execution_count": 5,
   "id": "4791de0a-034d-4c09-a189-36b5a78c0a07",
   "metadata": {
    "execution": {
     "iopub.execute_input": "2025-05-28T04:14:35.282556Z",
     "iopub.status.busy": "2025-05-28T04:14:35.282450Z",
     "iopub.status.idle": "2025-05-28T04:14:35.288052Z",
     "shell.execute_reply": "2025-05-28T04:14:35.287585Z",
     "shell.execute_reply.started": "2025-05-28T04:14:35.282547Z"
    }
   },
   "outputs": [
    {
     "data": {
      "text/plain": [
       "array([   0,    2,    3,  -29,    1,    0,   -2,   -7,   15,    0,  -14,\n",
       "         12,    0,   -2,   -8,    0,   13,    1,   -5,  -11,   14,    0,\n",
       "       -430,   22,   14,   19,   21,   39,    0,    6,   28,   18,   83,\n",
       "       -413,   12,  125,   20,   15,   22,    0,    7,   16,   11,   12,\n",
       "         14,   18,    6,   27,   22,   17,   36,   19,   35,   45,   -9,\n",
       "         23,   -8,   20,   25,   17,   13,    3,   -3,  168,    8,    2,\n",
       "         16,   33,   26,   17,   20,    5,   23,   18,   28,   30,   16,\n",
       "         17,   20,   27,    8,   18,   17,    7,  -88,   15,    7,    3,\n",
       "          1,   -8,  -21,   14,    2,    6,   -1,   -1,    8,    4,   -8,\n",
       "         -1,    9,    9,  -10,  -11,   -6,    0,    6,    0,   10,    3,\n",
       "          1,   14,   -1,   14,   -1, -112])"
      ]
     },
     "execution_count": 5,
     "metadata": {},
     "output_type": "execute_result"
    }
   ],
   "source": [
    "lags_total[0]"
   ]
  },
  {
   "cell_type": "code",
   "execution_count": 6,
   "id": "d603e549-3552-40a7-81f3-dc2bd9777066",
   "metadata": {
    "execution": {
     "iopub.execute_input": "2025-05-28T04:14:35.290808Z",
     "iopub.status.busy": "2025-05-28T04:14:35.290472Z",
     "iopub.status.idle": "2025-05-28T04:14:35.516732Z",
     "shell.execute_reply": "2025-05-28T04:14:35.516342Z",
     "shell.execute_reply.started": "2025-05-28T04:14:35.290790Z"
    }
   },
   "outputs": [
    {
     "data": {
      "text/plain": [
       "<matplotlib.colorbar.Colorbar at 0x23d49f2f230>"
      ]
     },
     "execution_count": 6,
     "metadata": {},
     "output_type": "execute_result"
    },
    {
     "data": {
      "image/png": "[encoded data removed]",
      "text/plain": [
       "<Figure size 640x480 with 2 Axes>"
      ]
     },
     "metadata": {},
     "output_type": "display_data"
    }
   ],
   "source": [
    "plt.imshow(lags_total, aspect='equal', cmap='jet', origin='upper')\n",
    "plt.clim(-300, 300)\n",
    "plt.colorbar()"
   ]
  },
  {
   "cell_type": "code",
   "execution_count": null,
   "id": "97d16fa5-83d8-463d-a01d-dfd1bf47e99d",
   "metadata": {},
   "outputs": [],
   "source": [
    "# Sorting cells depending on lag\n",
    "\n",
    "lags_total_cat = []\n",
    "c_num = []\n",
    "for a in lags:\n",
    "    idx_temp = np.where(lags_total == a)\n",
    "    lags_total_cat.append(idx_temp[0])\n",
    "\n",
    "    c_num.append(len(idx_temp[0]))\n",
    "\n",
    "lags_total_cat = np.array(lags_total_cat, dtype = object)"
   ]
  }
 ],
 "metadata": {
  "kernelspec": {
   "display_name": "Python 3 (ipykernel)",
   "language": "python",
   "name": "python3"
  },
  "language_info": {
   "codemirror_mode": {
    "name": "ipython",
    "version": 3
   },
   "file_extension": ".py",
   "mimetype": "text/x-python",
   "name": "python",
   "nbconvert_exporter": "python",
   "pygments_lexer": "ipython3",
   "version": "3.13.3"
  }
 },
 "nbformat": 4,
 "nbformat_minor": 5
}
