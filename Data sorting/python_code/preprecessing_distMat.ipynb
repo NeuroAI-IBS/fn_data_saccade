{
 "cells": [
  {
   "cell_type": "code",
   "execution_count": null,
   "id": "684a993b-0b77-4c2b-b01b-0b1f4ca7afd5",
   "metadata": {},
   "outputs": [],
   "source": [
    "Ts = 1000\n",
    "data_path = r'C:\\Users\\IBS\\Desktop\\python_code_N2'\n",
    "save_path = r'C:\\Users\\IBS\\Desktop\\figures'\n",
    "\n",
    "import pre_processing\n",
    "\n",
    "ppss = pre_processing.pre_processing(Ts, data_path, save_path)\n",
    "[final_cat, data_cat, val_cat, dur_cat, rejectedXY_cat] = ppss.datasorting_orientation(1)"
   ]
  },
  {
   "cell_type": "code",
   "execution_count": null,
   "id": "b33e3cf4-c533-40d5-9b16-37a8abcf3ae6",
   "metadata": {},
   "outputs": [],
   "source": [
    "import numpy as np\n",
    "import pandas as pd\n",
    "from pandas import DataFrame as df\n",
    "import matplotlib.pyplot as plt\n",
    "import scipy as sp\n",
    "import math\n",
    "from sklearn.manifold import MDS\n",
    "from scipy.ndimage import gaussian_filter1d"
   ]
  },
  {
   "cell_type": "code",
   "execution_count": null,
   "id": "cd12e739-d1b2-4705-94be-4c5947ea6b50",
   "metadata": {},
   "outputs": [],
   "source": [
    "class preprecessing_distMat:\n",
    "\n",
    "def __init__(self, Ts, data, save_path):\n",
    "    self.Ts = Ts\n",
    "    self.data = data\n",
    "    self.data_size = np.shape(data)\n",
    "    self.save_path = save_path"
   ]
  },
  {
   "cell_type": "code",
   "execution_count": null,
   "id": "a76dadd5-f2ee-4f60-9514-6148c77bbe2a",
   "metadata": {},
   "outputs": [],
   "source": [
    "def peak_delay(self, data, win = 20):\n",
    "    \"\"\"\n",
    "    Generate PCA data from averaged spike data.\n",
    "\n",
    "    Parameters:\n",
    "        data: direction (optional) X cells X time\n",
    "        win: timewindow (ms), if sampling rate is 1000hz, win=10 is 10ms\n",
    "    \n",
    "    Returns:\n",
    "        onset_delay (np array)\n",
    "    \"\"\"\n",
    "    \n",
    "    win = 20 # timewindow (ms), if sampling rate is 1000hz, win=10 is 10ms\n",
    "    # b=[2,3,9,15,14,13,7,1];\n",
    "    # label_ori={'Up','Up right', 'Right', 'Down right',...\n",
    "    #     'Down', 'Down left', 'Left', 'Up left'};\n",
    "    peak_all = []\n",
    "    for data_num in range(np.shape(data_cat)[0]):\n",
    "    \n",
    "        valcat_t = val_cat[data_num]\n",
    "        datacat_t = data_cat[data_num]\n",
    "    \n",
    "        peak = []\n",
    "        for a in range(8):\n",
    "            # Peak\n",
    "            vv = np.mean(valcat_t[a], axis = 0)\n",
    "            I = np.where(max(vv) == vv)[0][0]\n",
    "            s_temp = gaussian_filter1d(np.sum(datacat_t[a], axis = 0), win)\n",
    "            I2 = np.where(max(s_temp) == s_temp)[0][0]\n",
    "            peak.append(I2 - I)\n",
    "        peak_all.append(peak)\n",
    "    onset_delay = np.array(peak_all) / Ts\n",
    "\n",
    "    return onset_delay"
   ]
  },
  {
   "cell_type": "code",
   "execution_count": null,
   "id": "a5eb305a-47a4-4fac-8a27-f6ac8f1b584f",
   "metadata": {},
   "outputs": [],
   "source": [
    "def peak_MDS(self, onset_delay, fig_on = False):\n",
    "    \"\"\"\n",
    "    Generate PCA data from averaged spike data.\n",
    "\n",
    "    Parameters:\n",
    "        onset_delay: data\n",
    "        win: timewindow (ms), if sampling rate is 1000hz, win=10 is 10ms\n",
    "    \n",
    "    Returns:\n",
    "        onset_delay (np array)\n",
    "    \"\"\"\n",
    "\n",
    "    p = np.corrcoef(onset_delay)-1\n",
    "\n",
    "    if fig_on:\n",
    "        plt.imshow(p, aspect='auto', cmap='jet', origin='upper') \n",
    "    \n",
    "    embedding = MDS(dissimilarity='euclidean', random_state = 1)\n",
    "    p_t = embedding.fit_transform(p)"
   ]
  }
 ],
 "metadata": {
  "kernelspec": {
   "display_name": "Python 3 (ipykernel)",
   "language": "python",
   "name": "python3"
  },
  "language_info": {
   "codemirror_mode": {
    "name": "ipython",
    "version": 3
   },
   "file_extension": ".py",
   "mimetype": "text/x-python",
   "name": "python",
   "nbconvert_exporter": "python",
   "pygments_lexer": "ipython3",
   "version": "3.13.3"
  }
 },
 "nbformat": 4,
 "nbformat_minor": 5
}
