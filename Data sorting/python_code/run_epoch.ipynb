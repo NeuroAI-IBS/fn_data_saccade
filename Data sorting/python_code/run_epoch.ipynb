{
 "cells": [
  {
   "cell_type": "markdown",
   "id": "011b8f2e",
   "metadata": {},
   "source": [
    "# Create and save epoch data"
   ]
  },
  {
   "cell_type": "code",
   "execution_count": 1,
   "id": "f452553a-ea16-419e-a1ce-27b088d44a2a",
   "metadata": {
    "execution": {
     "iopub.execute_input": "2025-04-02T06:07:05.916375Z",
     "iopub.status.busy": "2025-04-02T06:07:05.916375Z",
     "iopub.status.idle": "2025-04-02T06:07:07.454958Z",
     "shell.execute_reply": "2025-04-02T06:07:07.453945Z",
     "shell.execute_reply.started": "2025-04-02T06:07:05.916375Z"
    },
    "tags": []
   },
   "outputs": [],
   "source": [
    "import os\n",
    "import numpy as np\n",
    "import pandas as pd\n",
    "from pandas import DataFrame as df\n",
    "import scipy.io as sio"
   ]
  },
  {
   "cell_type": "code",
   "execution_count": 20,
   "id": "a76a360b",
   "metadata": {},
   "outputs": [
    {
     "name": "stdout",
     "output_type": "stream",
     "text": [
      "Environment is set to 'sungho_macbookpro'\n"
     ]
    }
   ],
   "source": [
    "# who is running this notebook?\n",
    "\n",
    "env = 'sungho_macbookpro'\n",
    "# env = 'jisub'\n",
    "\n",
    "# Issue a warning about the environment variable\n",
    "print(\n",
    "    f\"Environment is set to '{env}'\",\n",
    ")\n"
   ]
  },
  {
   "cell_type": "code",
   "execution_count": 21,
   "id": "0cd2e4d3",
   "metadata": {},
   "outputs": [],
   "source": [
    "if env == 'jisub':\n",
    "    exp_data_path = r'C:\\Users\\Jisub\\Desktop\\Saccadic\\left\\data'\n",
    "elif env == 'sungho_macbookpro':\n",
    "    exp_data_path = '/Users/shhong/Dropbox (Personal)/Data/Peng/left'"
   ]
  },
  {
   "cell_type": "code",
   "execution_count": 22,
   "id": "2ba78fc6-a820-4240-8a1b-29b7d229fa2f",
   "metadata": {
    "execution": {
     "iopub.execute_input": "2025-04-02T06:18:07.957277Z",
     "iopub.status.busy": "2025-04-02T06:18:07.956828Z",
     "iopub.status.idle": "2025-04-02T06:18:07.970546Z",
     "shell.execute_reply": "2025-04-02T06:18:07.969556Z",
     "shell.execute_reply.started": "2025-04-02T06:18:07.957277Z"
    },
    "tags": []
   },
   "outputs": [],
   "source": [
    "# Load epoch setting\n",
    "total_epoch=np.load('epoch_setting.npy', allow_pickle=True)"
   ]
  },
  {
   "cell_type": "code",
   "execution_count": 23,
   "id": "a367fef6-d2cd-4b00-bd40-9df951b66721",
   "metadata": {
    "execution": {
     "iopub.execute_input": "2025-04-02T06:08:17.498858Z",
     "iopub.status.busy": "2025-04-02T06:08:17.498858Z",
     "iopub.status.idle": "2025-04-02T06:08:17.512723Z",
     "shell.execute_reply": "2025-04-02T06:08:17.511502Z",
     "shell.execute_reply.started": "2025-04-02T06:08:17.498858Z"
    },
    "tags": []
   },
   "outputs": [
    {
     "name": "stdout",
     "output_type": "stream",
     "text": [
      "(1095, 6)\n"
     ]
    }
   ],
   "source": [
    "# sanity check\n",
    "print(np.shape(total_epoch[0][1]))"
   ]
  },
  {
   "cell_type": "code",
   "execution_count": 24,
   "id": "ebf0b109-c699-4fc2-b9d1-0219af4b5cfd",
   "metadata": {
    "execution": {
     "iopub.execute_input": "2025-03-31T07:47:59.124610Z",
     "iopub.status.busy": "2025-03-31T07:47:59.124610Z",
     "iopub.status.idle": "2025-03-31T07:49:07.403743Z",
     "shell.execute_reply": "2025-03-31T07:49:07.402484Z",
     "shell.execute_reply.started": "2025-03-31T07:47:59.124610Z"
    },
    "tags": []
   },
   "outputs": [
    {
     "name": "stdout",
     "output_type": "stream",
     "text": [
      "/Users/shhong/Dropbox (Personal)/Data/Peng/left/e2012-06-15-14-50-24-590.CH7.final-needflip.mat\n",
      "/Users/shhong/Dropbox (Personal)/Data/Peng/left/e2012-06-15-15-37-05-311.CH7.final-needflip.mat\n",
      "/Users/shhong/Dropbox (Personal)/Data/Peng/left/e2012-11-08-16-44-54-465.CH6.final.mat\n",
      "/Users/shhong/Dropbox (Personal)/Data/Peng/left/e2012-11-20-16-09-57-633.CH6.final.mat\n",
      "/Users/shhong/Dropbox (Personal)/Data/Peng/left/e2012-11-20-17-46-42-156.CH6.final.mat\n",
      "/Users/shhong/Dropbox (Personal)/Data/Peng/left/e2012-11-28-16-38-36-062.CH6.final.mat\n",
      "/Users/shhong/Dropbox (Personal)/Data/Peng/left/e2012-11-29-17-44-35-815.CH6.final.mat\n",
      "/Users/shhong/Dropbox (Personal)/Data/Peng/left/e2012-12-13-16-48-37-742.CH7.final.mat\n",
      "/Users/shhong/Dropbox (Personal)/Data/Peng/left/e2012-12-20-15-20-21-316.CH7.final.mat\n",
      "/Users/shhong/Dropbox (Personal)/Data/Peng/left/e2013-01-07-17-58-21-600.CH6.final.mat\n",
      "/Users/shhong/Dropbox (Personal)/Data/Peng/left/e2013-01-08-17-52-34-883.CH6.final.mat\n",
      "/Users/shhong/Dropbox (Personal)/Data/Peng/left/e2013-01-09-15-58-13-835.CH6.final.mat\n",
      "/Users/shhong/Dropbox (Personal)/Data/Peng/left/e2013-01-09-16-24-11-837.CH7.final.mat\n",
      "/Users/shhong/Dropbox (Personal)/Data/Peng/left/e2013-01-11-14-49-40-680.CH7.final.mat\n",
      "/Users/shhong/Dropbox (Personal)/Data/Peng/left/e2013-01-11-15-00-49-402.CH7.final.mat\n",
      "/Users/shhong/Dropbox (Personal)/Data/Peng/left/e2013-01-16-15-23-54-780.CH7.final.mat\n",
      "/Users/shhong/Dropbox (Personal)/Data/Peng/left/e2013-01-17-14-37-17-495.CH7.final.mat\n",
      "/Users/shhong/Dropbox (Personal)/Data/Peng/left/e2013-01-23-16-56-22-357.CH6.final.mat\n",
      "/Users/shhong/Dropbox (Personal)/Data/Peng/left/e2013-03-19-16-02-58-357-.CH6.final.mat\n",
      "/Users/shhong/Dropbox (Personal)/Data/Peng/left/e2013-07-17-15-59-13-217.CH6.final-needflip.mat\n",
      "/Users/shhong/Dropbox (Personal)/Data/Peng/left/e2013-07-17-16-09-24-411.CH6.final-needflip.mat\n",
      "/Users/shhong/Dropbox (Personal)/Data/Peng/left/e2013-07-23-16-20-32-578.CH6.final-needflip.mat\n",
      "/Users/shhong/Dropbox (Personal)/Data/Peng/left/e2013-07-24-14-04-05-561.CH6.final-needflip.mat\n",
      "/Users/shhong/Dropbox (Personal)/Data/Peng/left/e2013-07-24-14-44-30-105.CH6.final-needflip.mat\n",
      "/Users/shhong/Dropbox (Personal)/Data/Peng/left/e2013-07-25-15-30-52-058.CH6.final-needflip.mat\n",
      "/Users/shhong/Dropbox (Personal)/Data/Peng/left/e2013-07-25-16-31-09-899.CH6.final-needflip.mat\n",
      "/Users/shhong/Dropbox (Personal)/Data/Peng/left/e2013-08-01-13-18-17-551.CH6.final-needflip.mat\n",
      "/Users/shhong/Dropbox (Personal)/Data/Peng/left/e2013-08-05-14-59-30-815.CH6.final.mat\n",
      "/Users/shhong/Dropbox (Personal)/Data/Peng/left/e2013-08-05-15-30-45-550.CH6.final.mat\n",
      "/Users/shhong/Dropbox (Personal)/Data/Peng/left/e2013-08-05-16-24-44-943.CH6.final.mat\n",
      "/Users/shhong/Dropbox (Personal)/Data/Peng/left/e2013-08-08-14-20-15-291.CH6.final.mat\n",
      "/Users/shhong/Dropbox (Personal)/Data/Peng/left/e2013-12-20-13-48-20-962.CH2.final.mat\n",
      "/Users/shhong/Dropbox (Personal)/Data/Peng/left/e2013-12-20-14-50-23-672.CH1.final.mat\n",
      "/Users/shhong/Dropbox (Personal)/Data/Peng/left/e2014-02-04-17-38-05-492.CH1.final.mat\n",
      "/Users/shhong/Dropbox (Personal)/Data/Peng/left/e2014-02-06-17-40-27-982.CH1.final.mat\n",
      "/Users/shhong/Dropbox (Personal)/Data/Peng/left/e2014-02-07-16-04-04-602.CH1.final.mat\n",
      "/Users/shhong/Dropbox (Personal)/Data/Peng/left/e2014-02-07-18-18-24-222.CH1.final.mat\n",
      "/Users/shhong/Dropbox (Personal)/Data/Peng/left/e2014-02-09--17-29-19-717.CH2.final.mat\n",
      "/Users/shhong/Dropbox (Personal)/Data/Peng/left/e2014-02-09-17--29-19-717.CH1.final.mat\n",
      "/Users/shhong/Dropbox (Personal)/Data/Peng/left/e2014-02-09-18-04-58-898.CH1.final.mat\n",
      "/Users/shhong/Dropbox (Personal)/Data/Peng/left/e2014-02-12-14-26-52-359.CH1.final.mat\n",
      "/Users/shhong/Dropbox (Personal)/Data/Peng/left/e2014-02-12-15-47-54-931.CH1.final.mat\n",
      "/Users/shhong/Dropbox (Personal)/Data/Peng/left/e2014-02-12-15-47-54-9312.CH1.final.mat\n",
      "/Users/shhong/Dropbox (Personal)/Data/Peng/left/e2014-02-13-16-59-57-358.CH2.final.mat\n",
      "/Users/shhong/Dropbox (Personal)/Data/Peng/left/e2014-02-22-15-27-33-110.CH1.final.mat\n",
      "/Users/shhong/Dropbox (Personal)/Data/Peng/left/e2014-02-23-15-58-59-189.CH2.final.mat\n",
      "/Users/shhong/Dropbox (Personal)/Data/Peng/left/e2014-02-24-14-27-29-734.CH1.final.mat\n",
      "/Users/shhong/Dropbox (Personal)/Data/Peng/left/e2014-02-27-16-38-14-967.CH1.final.mat\n",
      "/Users/shhong/Dropbox (Personal)/Data/Peng/left/e2014-02-28-14-45-56-330.CH1.final.mat\n",
      "/Users/shhong/Dropbox (Personal)/Data/Peng/left/e2014-03-05-13-36-05-006.CH2.final.mat\n",
      "/Users/shhong/Dropbox (Personal)/Data/Peng/left/e2014-03-06-13-57-25-573.CH1.final.mat\n",
      "/Users/shhong/Dropbox (Personal)/Data/Peng/left/e2014-03-06-15-30-48-569.CH1.final.mat\n",
      "/Users/shhong/Dropbox (Personal)/Data/Peng/left/e2014-03-07-19-08-29-738.CH2.final.mat\n",
      "/Users/shhong/Dropbox (Personal)/Data/Peng/left/e2014-03-07-19-57-53-931.CH2.final.mat\n",
      "/Users/shhong/Dropbox (Personal)/Data/Peng/left/e2014-03-08-17-04-30-957.CH1.final.mat\n",
      "/Users/shhong/Dropbox (Personal)/Data/Peng/left/e2014-03-09-17-48-42-646.CH1.final.mat\n",
      "/Users/shhong/Dropbox (Personal)/Data/Peng/left/e2014-03-09-18-15-50-500.CH2.final.mat\n",
      "/Users/shhong/Dropbox (Personal)/Data/Peng/left/e2014-03-10-17-01-27-977.CH2.final.mat\n",
      "/Users/shhong/Dropbox (Personal)/Data/Peng/left/e2014-03-11-14-52-27-008.CH1.final.mat\n",
      "/Users/shhong/Dropbox (Personal)/Data/Peng/left/e2014-03-11-14-58-54-828.CH1.final.mat\n",
      "/Users/shhong/Dropbox (Personal)/Data/Peng/left/e2014-03-11-17-09-18-903.CH2.final.mat\n",
      "/Users/shhong/Dropbox (Personal)/Data/Peng/left/e2014-03-14-16-47-13-045.CH2.final.mat\n",
      "/Users/shhong/Dropbox (Personal)/Data/Peng/left/e2014-03-14-17-49-19-545.CH2.final.mat\n",
      "/Users/shhong/Dropbox (Personal)/Data/Peng/left/e2014-03-18-14-39-16-582.CH2.final.mat\n",
      "/Users/shhong/Dropbox (Personal)/Data/Peng/left/e2014-04-01-17-03-01-522.CH2.final.mat\n",
      "/Users/shhong/Dropbox (Personal)/Data/Peng/left/e2014-04-28-16-40-57-186.CH2.final-needflip.mat\n",
      "/Users/shhong/Dropbox (Personal)/Data/Peng/left/e2014-04-28-17-28-22-339.CH2.final-needflip.mat\n"
     ]
    }
   ],
   "source": [
    "total_epodata=[]\n",
    "for a in range(len(total_epoch)):\n",
    "    fpath = os.path.join(exp_data_path, total_epoch[a,4])\n",
    "    print(fpath)\n",
    "    data = sio.loadmat(fpath, squeeze_me=True)\n",
    "    temp_epoch=total_epoch[a,1]\n",
    "    T0 = data['T1']\n",
    "    T2 = T0.toarray()\n",
    "    TargetX = data['TargetX']\n",
    "    TargetY = data['TargetY']\n",
    "    VelV = data['VelV']\n",
    "\n",
    "    # Target stimulation and spike data\n",
    "    total_data1=[];\n",
    "    total_data2=[];\n",
    "    total_data3=[];\n",
    "    total_data4=[];\n",
    "    total_data5=[];\n",
    "    total_data6=[];\n",
    "    for epo_num in range(np.size(temp_epoch,0)):\n",
    "\n",
    "        tval=temp_epoch[epo_num,:]\n",
    "\n",
    "        # target stimulation\n",
    "        xx=TargetX[tval[2],:]\n",
    "        xx2=xx[tval[0]:tval[1]]\n",
    "        yy=TargetY[tval[2],:]\n",
    "        yy2=yy[tval[0]:tval[1]]\n",
    "\n",
    "        # velocity data\n",
    "        VV=VelV[tval[2],:]\n",
    "        VV2=VV[tval[0]:tval[1]]\n",
    "\n",
    "        # spike data\n",
    "        TT=T2[tval[2],:]\n",
    "        TT2=TT[tval[0]:tval[1]]\n",
    "\n",
    "        # spike data epoching by stimulus\n",
    "        TT3=TT[tval[4]:tval[5]]\n",
    "\n",
    "        total_data1.append(xx2) # TargetX epoched data\n",
    "        total_data2.append(yy2) # TargetY epoched data\n",
    "        total_data3.append(VV2) # velocity epoched data\n",
    "        total_data4.append(TT2) # T1 epoched data\n",
    "        total_data5.append(tval[3]) # velopcity duration\n",
    "        total_data6.append(TT3) # T1 epoched data(by stimulus)\n",
    "\n",
    "    total_data1=np.array(total_data1)\n",
    "    total_data2=np.array(total_data2)\n",
    "    total_data3=np.array(total_data3)\n",
    "    total_data4=np.array(total_data4)\n",
    "    total_data5=np.array(total_data5)\n",
    "    total_data6=np.array(total_data6)\n",
    "\n",
    "    total_data=[total_data1,total_data2,total_data3, total_data4, total_data5, total_data6]\n",
    "    total_epodata.append([total_data, total_epoch[a,4]])\n",
    "\n",
    "total_epodata=np.array(total_epodata,dtype=object)"
   ]
  },
  {
   "cell_type": "code",
   "execution_count": 25,
   "id": "9e631c33-6a20-413b-b291-d6d087c6cdb6",
   "metadata": {
    "execution": {
     "iopub.execute_input": "2025-03-31T07:50:03.505027Z",
     "iopub.status.busy": "2025-03-31T07:50:03.504754Z",
     "iopub.status.idle": "2025-03-31T07:50:03.862581Z",
     "shell.execute_reply": "2025-03-31T07:50:03.861469Z",
     "shell.execute_reply.started": "2025-03-31T07:50:03.505027Z"
    },
    "tags": []
   },
   "outputs": [],
   "source": [
    "# Save the result\n",
    "os.chdir(os.curdir)\n",
    "np.save('epoched_data.npy', total_epodata)"
   ]
  },
  {
   "cell_type": "code",
   "execution_count": null,
   "id": "11f9f5cc",
   "metadata": {},
   "outputs": [],
   "source": []
  }
 ],
 "metadata": {
  "kernelspec": {
   "display_name": "Python 3 (ipykernel)",
   "language": "python",
   "name": "python3"
  },
  "language_info": {
   "codemirror_mode": {
    "name": "ipython",
    "version": 3
   },
   "file_extension": ".py",
   "mimetype": "text/x-python",
   "name": "python",
   "nbconvert_exporter": "python",
   "pygments_lexer": "ipython3",
   "version": "3.11.12"
  }
 },
 "nbformat": 4,
 "nbformat_minor": 5
}
