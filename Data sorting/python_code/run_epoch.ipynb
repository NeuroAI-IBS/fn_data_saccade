{
 "cells": [
  {
   "cell_type": "code",
   "execution_count": 1,
   "id": "f452553a-ea16-419e-a1ce-27b088d44a2a",
   "metadata": {
    "execution": {
     "iopub.execute_input": "2025-04-02T06:07:05.916375Z",
     "iopub.status.busy": "2025-04-02T06:07:05.916375Z",
     "iopub.status.idle": "2025-04-02T06:07:07.454958Z",
     "shell.execute_reply": "2025-04-02T06:07:07.453945Z",
     "shell.execute_reply.started": "2025-04-02T06:07:05.916375Z"
    },
    "tags": []
   },
   "outputs": [],
   "source": [
    "import os\n",
    "import numpy as np\n",
    "import pandas as pd\n",
    "from pandas import DataFrame as df\n",
    "import scipy.io as sio\n",
    "\n",
    "# Load epoch setting\n",
    "total_epoch=np.load('epoch_setting.npy', allow_pickle=True)\n",
    "\n",
    "# Load data list\n",
    "path = r'C:\\Users\\Jisub\\Desktop\\Saccadic\\left\\data'\n",
    "os.chdir(path)"
   ]
  },
  {
   "cell_type": "code",
   "execution_count": 8,
   "id": "2ba78fc6-a820-4240-8a1b-29b7d229fa2f",
   "metadata": {
    "execution": {
     "iopub.execute_input": "2025-04-02T06:18:07.957277Z",
     "iopub.status.busy": "2025-04-02T06:18:07.956828Z",
     "iopub.status.idle": "2025-04-02T06:18:07.970546Z",
     "shell.execute_reply": "2025-04-02T06:18:07.969556Z",
     "shell.execute_reply.started": "2025-04-02T06:18:07.957277Z"
    },
    "tags": []
   },
   "outputs": [
    {
     "data": {
      "text/plain": [
       "(1095, 6)"
      ]
     },
     "execution_count": 8,
     "metadata": {},
     "output_type": "execute_result"
    }
   ],
   "source": [
    "np.shape(total_epoch[0,1])"
   ]
  },
  {
   "cell_type": "code",
   "execution_count": 6,
   "id": "a367fef6-d2cd-4b00-bd40-9df951b66721",
   "metadata": {
    "execution": {
     "iopub.execute_input": "2025-04-02T06:08:17.498858Z",
     "iopub.status.busy": "2025-04-02T06:08:17.498858Z",
     "iopub.status.idle": "2025-04-02T06:08:17.512723Z",
     "shell.execute_reply": "2025-04-02T06:08:17.511502Z",
     "shell.execute_reply.started": "2025-04-02T06:08:17.498858Z"
    },
    "tags": []
   },
   "outputs": [
    {
     "data": {
      "text/plain": [
       "(1095, 6)"
      ]
     },
     "execution_count": 6,
     "metadata": {},
     "output_type": "execute_result"
    }
   ],
   "source": [
    "np.shape(total_epoch[0][1])"
   ]
  },
  {
   "cell_type": "code",
   "execution_count": 2,
   "id": "ebf0b109-c699-4fc2-b9d1-0219af4b5cfd",
   "metadata": {
    "execution": {
     "iopub.execute_input": "2025-03-31T07:47:59.124610Z",
     "iopub.status.busy": "2025-03-31T07:47:59.124610Z",
     "iopub.status.idle": "2025-03-31T07:49:07.403743Z",
     "shell.execute_reply": "2025-03-31T07:49:07.402484Z",
     "shell.execute_reply.started": "2025-03-31T07:47:59.124610Z"
    },
    "tags": []
   },
   "outputs": [
    {
     "name": "stderr",
     "output_type": "stream",
     "text": [
      "C:\\Users\\Jisub\\AppData\\Local\\Temp\\ipykernel_16932\\3016052467.py:58: VisibleDeprecationWarning: Creating an ndarray from ragged nested sequences (which is a list-or-tuple of lists-or-tuples-or ndarrays with different lengths or shapes) is deprecated. If you meant to do this, you must specify 'dtype=object' when creating the ndarray.\n",
      "  total_epodata=np.array(total_epodata)\n"
     ]
    }
   ],
   "source": [
    "total_epodata=[]\n",
    "for a in range(len(total_epoch)):\n",
    "\n",
    "    data = sio.loadmat(total_epoch[a,4], squeeze_me=True)\n",
    "    temp_epoch=total_epoch[a,1]\n",
    "    T0 = data['T1']\n",
    "    T2 = T0.toarray()\n",
    "    TargetX = data['TargetX']\n",
    "    TargetY = data['TargetY']\n",
    "    VelV = data['VelV']\n",
    "\n",
    "    # Target stimulation and spike data\n",
    "    total_data1=[];\n",
    "    total_data2=[];\n",
    "    total_data3=[];\n",
    "    total_data4=[];\n",
    "    total_data5=[];\n",
    "    total_data6=[];\n",
    "    for epo_num in range(np.size(temp_epoch,0)):\n",
    "        \n",
    "        tval=temp_epoch[epo_num,:]\n",
    "        \n",
    "        # target stimulation\n",
    "        xx=TargetX[tval[2],:]\n",
    "        xx2=xx[tval[0]:tval[1]]\n",
    "        yy=TargetY[tval[2],:]\n",
    "        yy2=yy[tval[0]:tval[1]]\n",
    "        \n",
    "        # velocity data\n",
    "        VV=VelV[tval[2],:]\n",
    "        VV2=VV[tval[0]:tval[1]]\n",
    "        \n",
    "        # spike data\n",
    "        TT=T2[tval[2],:]\n",
    "        TT2=TT[tval[0]:tval[1]]\n",
    "\n",
    "        # spike data epoching by stimulus\n",
    "        TT3=TT[tval[4]:tval[5]]\n",
    "        \n",
    "        total_data1.append(xx2) # TargetX epoched data\n",
    "        total_data2.append(yy2) # TargetY epoched data\n",
    "        total_data3.append(VV2) # velocity epoched data\n",
    "        total_data4.append(TT2) # T1 epoched data\n",
    "        total_data5.append(tval[3]) # velopcity duration\n",
    "        total_data6.append(TT3) # T1 epoched data(by stimulus)\n",
    "        \n",
    "    total_data1=np.array(total_data1)\n",
    "    total_data2=np.array(total_data2)\n",
    "    total_data3=np.array(total_data3)\n",
    "    total_data4=np.array(total_data4)\n",
    "    total_data5=np.array(total_data5)\n",
    "    total_data6=np.array(total_data6)\n",
    "        \n",
    "    total_data=[total_data1,total_data2,total_data3, total_data4, total_data5, total_data6]\n",
    "    total_epodata.append([total_data, total_epoch[a,4]])\n",
    "\n",
    "total_epodata=np.array(total_epodata,dtype=object)"
   ]
  },
  {
   "cell_type": "code",
   "execution_count": 4,
   "id": "9e631c33-6a20-413b-b291-d6d087c6cdb6",
   "metadata": {
    "execution": {
     "iopub.execute_input": "2025-03-31T07:50:03.505027Z",
     "iopub.status.busy": "2025-03-31T07:50:03.504754Z",
     "iopub.status.idle": "2025-03-31T07:50:03.862581Z",
     "shell.execute_reply": "2025-03-31T07:50:03.861469Z",
     "shell.execute_reply.started": "2025-03-31T07:50:03.505027Z"
    },
    "tags": []
   },
   "outputs": [],
   "source": [
    "# Save the result\n",
    "os.chdir(r'C:\\Users\\Jisub\\Desktop\\Saccadic\\python_code')\n",
    "np.save('epoched_data.npy',total_epodata)"
   ]
  }
 ],
 "metadata": {
  "kernelspec": {
   "display_name": "Python 3 (ipykernel)",
   "language": "python",
   "name": "python3"
  },
  "language_info": {
   "codemirror_mode": {
    "name": "ipython",
    "version": 3
   },
   "file_extension": ".py",
   "mimetype": "text/x-python",
   "name": "python",
   "nbconvert_exporter": "python",
   "pygments_lexer": "ipython3",
   "version": "3.10.2"
  }
 },
 "nbformat": 4,
 "nbformat_minor": 5
}
