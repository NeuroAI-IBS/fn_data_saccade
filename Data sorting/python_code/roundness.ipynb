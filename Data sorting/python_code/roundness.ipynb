{
 "cells": [
  {
   "cell_type": "code",
   "execution_count": 37,
   "id": "e600bd79-67d3-46da-b2ff-21e4f9f3d717",
   "metadata": {
    "execution": {
     "iopub.execute_input": "2025-05-21T23:51:29.843611Z",
     "iopub.status.busy": "2025-05-21T23:51:29.843357Z",
     "iopub.status.idle": "2025-05-21T23:51:29.847559Z",
     "shell.execute_reply": "2025-05-21T23:51:29.847093Z",
     "shell.execute_reply.started": "2025-05-21T23:51:29.843596Z"
    }
   },
   "outputs": [],
   "source": [
    "data = np.genfromtxt('asdf.txt', delimiter='\\t')\n",
    "data = data.T"
   ]
  },
  {
   "cell_type": "code",
   "execution_count": 31,
   "id": "072187bc-5d41-431b-922a-dd0f02f9419b",
   "metadata": {
    "execution": {
     "iopub.execute_input": "2025-05-21T23:48:05.411270Z",
     "iopub.status.busy": "2025-05-21T23:48:05.410945Z",
     "iopub.status.idle": "2025-05-21T23:48:05.414597Z",
     "shell.execute_reply": "2025-05-21T23:48:05.414199Z",
     "shell.execute_reply.started": "2025-05-21T23:48:05.411251Z"
    }
   },
   "outputs": [],
   "source": [
    "import numpy as np\n",
    "import pandas as pd\n",
    "from pandas import DataFrame as df\n",
    "from scipy.spatial import distance\n",
    "import math\n",
    "\n",
    "def roundness(data):\n",
    "    \"\"\"\n",
    "    Calculate roundness among the dots (3D)\n",
    "\n",
    "    Parameters:\n",
    "    - data (ndarray): dots x axis\n",
    "\n",
    "    Returns:\n",
    "    - roundness: ratio between circumference of dots and circle\n",
    "    \"\"\"\n",
    "\n",
    "    def tri_dot_area(x, y, z): \n",
    "        dist_xy = distance.euclidean(x, y); dist_xz = distance.euclidean(x, z); dist_yz = distance.euclidean(y, z)\n",
    "        s = (dist_xy + dist_xz + dist_yz) * 0.5\n",
    "        area = math.sqrt(s * (s - dist_xy) * (s - dist_xz) * (s - dist_yz))\n",
    "    \n",
    "        return area\n",
    "    \n",
    "    # Calculation area based on centroid\n",
    "    \n",
    "    temp_d = np.vstack([data, data[0]])\n",
    "    \n",
    "    area_t = []\n",
    "    dist_t = []\n",
    "    for a in range(np.shape(data)[0]):\n",
    "    \n",
    "        area = tri_dot_area(centroid, temp_d[a], temp_d[a+1])\n",
    "        area_t.append(area)\n",
    "    \n",
    "        dist_temp = distance.euclidean(temp_d[a], temp_d[a+1])\n",
    "        dist_t.append(dist_temp)\n",
    "    \n",
    "    sum_area = np.sum(area_t)\n",
    "    sum_r = np.sum(dist_t)\n",
    "    \n",
    "    \n",
    "    # Calculation roundness\n",
    "    cir_r = 2 * math.sqrt(np.pi * sum_area)\n",
    "    output = cir_r / sum_r\n",
    "    \n",
    "    return output"
   ]
  }
 ],
 "metadata": {
  "kernelspec": {
   "display_name": "Python 3 (ipykernel)",
   "language": "python",
   "name": "python3"
  },
  "language_info": {
   "codemirror_mode": {
    "name": "ipython",
    "version": 3
   },
   "file_extension": ".py",
   "mimetype": "text/x-python",
   "name": "python",
   "nbconvert_exporter": "python",
   "pygments_lexer": "ipython3",
   "version": "3.13.3"
  }
 },
 "nbformat": 4,
 "nbformat_minor": 5
}
