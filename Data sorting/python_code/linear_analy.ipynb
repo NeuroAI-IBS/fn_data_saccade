{
 "cells": [
  {
   "cell_type": "code",
   "execution_count": 1,
   "id": "3da229a6-aa08-43b3-b2a7-1face6ff26f8",
   "metadata": {
    "execution": {
     "iopub.execute_input": "2025-04-15T04:03:01.557995Z",
     "iopub.status.busy": "2025-04-15T04:03:01.557484Z",
     "iopub.status.idle": "2025-04-15T04:03:03.312414Z",
     "shell.execute_reply": "2025-04-15T04:03:03.311689Z",
     "shell.execute_reply.started": "2025-04-15T04:03:01.557957Z"
    }
   },
   "outputs": [],
   "source": [
    "import numpy as np\n",
    "import pandas as pd\n",
    "from pandas import DataFrame as df\n",
    "import matplotlib.pyplot as plt\n",
    "import runpy\n",
    "\n",
    "result = runpy.run_path('datasorting_orientation.py')"
   ]
  },
  {
   "cell_type": "code",
   "execution_count": 4,
   "id": "0b4dd1b3-6785-4c6c-a21d-8e9d4d74f89d",
   "metadata": {
    "execution": {
     "iopub.execute_input": "2025-04-15T04:03:24.136021Z",
     "iopub.status.busy": "2025-04-15T04:03:24.135663Z",
     "iopub.status.idle": "2025-04-15T04:03:24.172620Z",
     "shell.execute_reply": "2025-04-15T04:03:24.172058Z",
     "shell.execute_reply.started": "2025-04-15T04:03:24.136001Z"
    }
   },
   "outputs": [],
   "source": [
    "val_cat = result['val_cat']\n",
    "data_cat = result['data_cat']\n",
    "dur_cat = result['dur_cat']\n",
    "del result"
   ]
  },
  {
   "cell_type": "code",
   "execution_count": null,
   "id": "bba8dcbb-81a1-448f-9d39-ed5f1256a24a",
   "metadata": {},
   "outputs": [],
   "source": []
  },
  {
   "cell_type": "code",
   "execution_count": null,
   "id": "a4566450-6b64-4501-b4f3-2b4a63b04a9f",
   "metadata": {},
   "outputs": [],
   "source": []
  },
  {
   "cell_type": "code",
   "execution_count": null,
   "id": "4b1beabb-39c7-49c3-a3b2-5809b341e6ed",
   "metadata": {},
   "outputs": [],
   "source": []
  },
  {
   "cell_type": "code",
   "execution_count": 5,
   "id": "123b3de6-9667-4b67-aec4-9b7544e5b014",
   "metadata": {
    "execution": {
     "iopub.execute_input": "2025-04-15T04:03:47.267395Z",
     "iopub.status.busy": "2025-04-15T04:03:47.267030Z",
     "iopub.status.idle": "2025-04-15T04:03:47.273314Z",
     "shell.execute_reply": "2025-04-15T04:03:47.272772Z",
     "shell.execute_reply.started": "2025-04-15T04:03:47.267371Z"
    }
   },
   "outputs": [],
   "source": [
    "def generate_linear_model(rate_matrix, params, params0):\n",
    "    \"\"\"\n",
    "    Generate a linear model of the rate matrix.\n",
    "\n",
    "    Parameters:\n",
    "    - rate_matrix (ndarray): Rate matrix (Trial x Time)\n",
    "    - params (ndarray): Parameters (peak velocity, duration) shape (Trial x 2)\n",
    "    - params0 (array-like): Grand average parameters [peak velocity, average velocity]\n",
    "\n",
    "    Returns:\n",
    "    - linmod (dict): Linear model structure containing:\n",
    "        - wv0: reduced model velocity coefficients\n",
    "        - wv: full model velocity coefficients\n",
    "        - wr: full model duration coefficients\n",
    "        - ssc: corrected PSTH for full model\n",
    "        - ssc0: corrected PSTH for reduced model\n",
    "        - v00: grand average peak velocity\n",
    "        - r00: grand average average velocity\n",
    "    \"\"\"\n",
    "    vpeak = np.abs(params[:, 0])  # peak velocity\n",
    "    sdur = np.abs(params[:, 1])   # duration\n",
    "    ss = rate_matrix              # rate matrix\n",
    "\n",
    "    ss0 = np.nanmean(ss, axis=0)  # mean rate across trials\n",
    "    dss = ss - ss0                # deviation from mean rate\n",
    "    v0 = np.nanmean(vpeak)        # mean peak velocity\n",
    "    r0 = np.nanmean(15. / sdur)   # mean average velocity\n",
    "\n",
    "    dv = vpeak - v0\n",
    "    dr = 10. / sdur - r0\n",
    "    dz = np.stack((dv, dr), axis=1)  # shape (Trial, 2)\n",
    "\n",
    "    # Full model coefficients\n",
    "    cc = dz.T @ dz\n",
    "    w12 = np.linalg.pinv(cc) @ dz.T @ dss  # shape (2, Time)\n",
    "\n",
    "    wv = w12[0, :]  # velocity coefficients\n",
    "    wr = w12[1, :]  # duration coefficients\n",
    "\n",
    "    # Reduced model with only velocity\n",
    "    wv0 = (dv.T @ dss) / (dv.T @ dv)  # shape (Time,)\n",
    "\n",
    "    # Grand averages\n",
    "    v00 = params0[0]\n",
    "    r00 = params0[1]\n",
    "\n",
    "    # Corrected PSTH for full model\n",
    "    wc = (v00 - v0) * wv + (r00 - r0) * wr\n",
    "    ssc = ss0 + wc\n",
    "\n",
    "    # Corrected PSTH for reduced model\n",
    "    wc0 = (v00 - v0) * wv0\n",
    "    ssc0 = ss0 + wc0\n",
    "\n",
    "    linmod = {\n",
    "        'wv0': wv0,\n",
    "        'wv': wv,\n",
    "        'wr': wr,\n",
    "        'ssc': ssc,\n",
    "        'ssc0': ssc0,\n",
    "        'v00': v00,\n",
    "        'r00': r00\n",
    "    }\n",
    "\n",
    "    return linmod\n"
   ]
  },
  {
   "cell_type": "code",
   "execution_count": 30,
   "id": "f67c8f4e-2903-40d0-9c5d-701cfb00e6e8",
   "metadata": {
    "execution": {
     "iopub.execute_input": "2025-04-15T04:32:16.256809Z",
     "iopub.status.busy": "2025-04-15T04:32:16.256486Z",
     "iopub.status.idle": "2025-04-15T04:32:16.267482Z",
     "shell.execute_reply": "2025-04-15T04:32:16.267025Z",
     "shell.execute_reply.started": "2025-04-15T04:32:16.256789Z"
    }
   },
   "outputs": [],
   "source": [
    "peak = []\n",
    "for a in range(np.shape(val_cat)[0]):\n",
    "    M = []\n",
    "    for ori in range(8):\n",
    "        temp = val_cat[a][ori]\n",
    "        M.append(np.max(temp,axis = 1))\n",
    "        # peak[a][ori]  = np.max(temp,axis = 1)\n",
    "    peak.append(M)\n",
    "\n",
    "peak = np.array(peak, dtype = object)"
   ]
  },
  {
   "cell_type": "code",
   "execution_count": 40,
   "id": "20685ee5-d74b-4338-b053-9df1fb19c4e0",
   "metadata": {
    "execution": {
     "iopub.execute_input": "2025-04-15T04:36:10.529512Z",
     "iopub.status.busy": "2025-04-15T04:36:10.529130Z",
     "iopub.status.idle": "2025-04-15T04:36:10.532129Z",
     "shell.execute_reply": "2025-04-15T04:36:10.531696Z",
     "shell.execute_reply.started": "2025-04-15T04:36:10.529493Z"
    }
   },
   "outputs": [],
   "source": [
    "ori_num = 0\n",
    "pram = [peak[a][ori_num], dur_cat[a][ori_num]]"
   ]
  },
  {
   "cell_type": "code",
   "execution_count": 50,
   "id": "4dce4975-684c-493e-926e-85e7a9aaa43a",
   "metadata": {
    "execution": {
     "iopub.execute_input": "2025-04-15T04:40:06.091290Z",
     "iopub.status.busy": "2025-04-15T04:40:06.090986Z",
     "iopub.status.idle": "2025-04-15T04:40:06.095424Z",
     "shell.execute_reply": "2025-04-15T04:40:06.095047Z",
     "shell.execute_reply.started": "2025-04-15T04:40:06.091271Z"
    }
   },
   "outputs": [
    {
     "data": {
      "text/plain": [
       "array([[514.39288199, 508.56822898, 463.14519163, 439.14897035,\n",
       "        484.17282187, 478.7446606 , 471.61526318, 502.34695951,\n",
       "        445.13477079, 457.41223524, 537.19383713, 525.11327121,\n",
       "        425.47725087, 472.71584566, 401.08219217, 408.45759253,\n",
       "        397.86904736, 485.30530747, 486.35017937, 434.55935335,\n",
       "        476.74643039, 422.95505888, 460.24792429, 488.46931248,\n",
       "        407.34931775, 461.63630776, 321.47146306, 491.78986958,\n",
       "        374.1672588 , 411.37414955, 459.50973332, 423.36718637,\n",
       "        479.27322069, 436.82742267, 447.90934939, 498.54563162,\n",
       "        501.65157679, 441.2404466 , 506.45637689],\n",
       "       [ 48.        ,  45.        ,  50.        ,  50.        ,\n",
       "         47.        ,  49.        ,  50.        ,  49.        ,\n",
       "         46.        ,  53.        ,  50.        ,  48.        ,\n",
       "         52.        ,  43.        ,  57.        ,  51.        ,\n",
       "         51.        ,  47.        ,  54.        ,  50.        ,\n",
       "         50.        ,  51.        ,  52.        ,  47.        ,\n",
       "         58.        ,  46.        , 142.        ,  54.        ,\n",
       "         54.        ,  47.        ,  49.        ,  57.        ,\n",
       "         51.        ,  58.        ,  58.        ,  42.        ,\n",
       "         48.        ,  52.        ,  52.        ]])"
      ]
     },
     "execution_count": 50,
     "metadata": {},
     "output_type": "execute_result"
    }
   ],
   "source": [
    "np.array(pram)"
   ]
  },
  {
   "cell_type": "code",
   "execution_count": 52,
   "id": "d080fd0b-de54-47ce-be6f-481543249066",
   "metadata": {
    "execution": {
     "iopub.execute_input": "2025-04-15T04:40:43.947414Z",
     "iopub.status.busy": "2025-04-15T04:40:43.947082Z",
     "iopub.status.idle": "2025-04-15T04:40:43.950696Z",
     "shell.execute_reply": "2025-04-15T04:40:43.950268Z",
     "shell.execute_reply.started": "2025-04-15T04:40:43.947396Z"
    }
   },
   "outputs": [],
   "source": [
    "a=0; ori_num=0\n",
    "\n",
    "temp_data = data_cat[a][ori_num]\n",
    "pram = np.array([peak[a][ori_num], dur_cat[a][ori_num]])\n",
    "pram2= np.mean(pram, axis = 1)"
   ]
  },
  {
   "cell_type": "code",
   "execution_count": 55,
   "id": "39d8f932-09f5-4868-b8a7-680d74114901",
   "metadata": {
    "execution": {
     "iopub.execute_input": "2025-04-15T04:41:04.969536Z",
     "iopub.status.busy": "2025-04-15T04:41:04.968648Z",
     "iopub.status.idle": "2025-04-15T04:41:04.973409Z",
     "shell.execute_reply": "2025-04-15T04:41:04.972950Z",
     "shell.execute_reply.started": "2025-04-15T04:41:04.969509Z"
    }
   },
   "outputs": [
    {
     "data": {
      "text/plain": [
       "(39, 600)"
      ]
     },
     "execution_count": 55,
     "metadata": {},
     "output_type": "execute_result"
    }
   ],
   "source": [
    "temp_data.shape"
   ]
  },
  {
   "cell_type": "code",
   "execution_count": 56,
   "id": "c93ff776-2a7d-4d7b-af57-2f309f604a68",
   "metadata": {
    "execution": {
     "iopub.execute_input": "2025-04-15T04:41:12.662988Z",
     "iopub.status.busy": "2025-04-15T04:41:12.662663Z",
     "iopub.status.idle": "2025-04-15T04:41:12.667619Z",
     "shell.execute_reply": "2025-04-15T04:41:12.666993Z",
     "shell.execute_reply.started": "2025-04-15T04:41:12.662966Z"
    }
   },
   "outputs": [
    {
     "data": {
      "text/plain": [
       "(2, 39)"
      ]
     },
     "execution_count": 56,
     "metadata": {},
     "output_type": "execute_result"
    }
   ],
   "source": [
    "pram.shape"
   ]
  },
  {
   "cell_type": "code",
   "execution_count": null,
   "id": "40f3a1d9-91f4-4f74-be8b-ad9a581c1dfb",
   "metadata": {
    "execution": {
     "iopub.execute_input": "2025-04-15T04:40:36.232528Z",
     "iopub.status.busy": "2025-04-15T04:40:36.232082Z",
     "iopub.status.idle": "2025-04-15T04:40:36.269080Z",
     "shell.execute_reply": "2025-04-15T04:40:36.268373Z",
     "shell.execute_reply.started": "2025-04-15T04:40:36.232511Z"
    }
   },
   "outputs": [
    {
     "ename": "ValueError",
     "evalue": "matmul: Input operand 1 has a mismatch in its core dimension 0, with gufunc signature (n?,k),(k,m?)->(n?,m?) (size 39 is different from 2)",
     "output_type": "error",
     "traceback": [
      "\u001b[31m---------------------------------------------------------------------------\u001b[39m",
      "\u001b[31mValueError\u001b[39m                                Traceback (most recent call last)",
      "\u001b[36mCell\u001b[39m\u001b[36m \u001b[39m\u001b[32mIn[51]\u001b[39m\u001b[32m, line 7\u001b[39m\n\u001b[32m      4\u001b[39m pram = np.array([peak[a][ori_num], dur_cat[a][ori_num]])\n\u001b[32m      5\u001b[39m pram2= np.mean(pram, axis = \u001b[32m1\u001b[39m)\n\u001b[32m----> \u001b[39m\u001b[32m7\u001b[39m linmod = \u001b[43mgenerate_linear_model\u001b[49m\u001b[43m(\u001b[49m\u001b[43mtemp_data\u001b[49m\u001b[43m,\u001b[49m\u001b[43m \u001b[49m\u001b[43mpram\u001b[49m\u001b[43m,\u001b[49m\u001b[43m \u001b[49m\u001b[43mpram2\u001b[49m\u001b[43m)\u001b[49m\n",
      "\u001b[36mCell\u001b[39m\u001b[36m \u001b[39m\u001b[32mIn[5]\u001b[39m\u001b[32m, line 35\u001b[39m, in \u001b[36mgenerate_linear_model\u001b[39m\u001b[34m(rate_matrix, params, params0)\u001b[39m\n\u001b[32m     33\u001b[39m \u001b[38;5;66;03m# Full model coefficients\u001b[39;00m\n\u001b[32m     34\u001b[39m cc = dz.T @ dz\n\u001b[32m---> \u001b[39m\u001b[32m35\u001b[39m w12 = \u001b[43mnp\u001b[49m\u001b[43m.\u001b[49m\u001b[43mlinalg\u001b[49m\u001b[43m.\u001b[49m\u001b[43mpinv\u001b[49m\u001b[43m(\u001b[49m\u001b[43mcc\u001b[49m\u001b[43m)\u001b[49m\u001b[43m \u001b[49m\u001b[43m@\u001b[49m\u001b[43m \u001b[49m\u001b[43mdz\u001b[49m\u001b[43m.\u001b[49m\u001b[43mT\u001b[49m\u001b[43m \u001b[49m\u001b[43m@\u001b[49m\u001b[43m \u001b[49m\u001b[43mdss\u001b[49m  \u001b[38;5;66;03m# shape (2, Time)\u001b[39;00m\n\u001b[32m     37\u001b[39m wv = w12[\u001b[32m0\u001b[39m, :]  \u001b[38;5;66;03m# velocity coefficients\u001b[39;00m\n\u001b[32m     38\u001b[39m wr = w12[\u001b[32m1\u001b[39m, :]  \u001b[38;5;66;03m# duration coefficients\u001b[39;00m\n",
      "\u001b[31mValueError\u001b[39m: matmul: Input operand 1 has a mismatch in its core dimension 0, with gufunc signature (n?,k),(k,m?)->(n?,m?) (size 39 is different from 2)"
     ]
    }
   ],
   "source": [
    "linmod = generate_linear_model(temp_data, pram, pram2)"
   ]
  },
  {
   "cell_type": "code",
   "execution_count": null,
   "id": "89315bff-c1cf-4a19-b837-65b8c271530f",
   "metadata": {},
   "outputs": [],
   "source": [
    "final = []\n",
    "for ori_num in range(8):\n",
    "    for a in range(np.shape(data_cat)[0]):\n",
    "        temp_data = data_cat[a][ori_num]\n",
    "        pram = np.array([peak[a][ori_num], dur_cat[a][ori_num]])\n",
    "        pram2= np.mean(pram, axis = 1)\n",
    "        \n",
    "        linmod = generate_linear_model(temp_data, pram, pram2);\n",
    "        final{a,ori_num}=linmod;"
   ]
  },
  {
   "cell_type": "code",
   "execution_count": null,
   "id": "adf955b0-74bb-430f-bba8-89906b377093",
   "metadata": {},
   "outputs": [],
   "source": [
    "final={};\n",
    "for ori_num = 1:8;\n",
    "    for a = 1:size(data_cat,1);\n",
    "        temp_data = data_cat{a, ori_num};\n",
    "        pram = [peak{a, ori_num},dur_cat{a, ori_num}];\n",
    "        pram2= mean(pram);\n",
    "        \n",
    "        linmod = generate_linear_model(temp_data, pram, pram2);\n",
    "        final{a,ori_num}=linmod;\n",
    "    end\n",
    "end; clear a ori_num"
   ]
  },
  {
   "cell_type": "code",
   "execution_count": null,
   "id": "08da991e-0201-418f-b963-821cb302ed56",
   "metadata": {},
   "outputs": [],
   "source": [
    "%% plotting\n",
    "\n",
    "plot_data={};\n",
    "for ori_num=1:8;\n",
    "\n",
    "    pp1=[];\n",
    "    pp2=[];\n",
    "    pp3=[];\n",
    "    pp4=[];\n",
    "    pp5=[];\n",
    "    for a=1:size(final,1);\n",
    "        temp=final{a, ori_num};\n",
    "        temp1=temp.wv0;\n",
    "        temp2=temp.wv;\n",
    "        temp3=temp.wr;\n",
    "        temp4=temp.ssc;\n",
    "        temp5=temp.ssc0;\n",
    "\n",
    "        pp1=[pp1;temp1;];\n",
    "        pp2=[pp2;temp2;];\n",
    "        pp3=[pp3;temp3;];\n",
    "        pp4=[pp4;temp4;];\n",
    "        pp5=[pp5;temp5;];\n",
    "    end\n",
    "    \n",
    "    %smoothing\n",
    "    zpp1=filter_matrix(pp1', 'sigma', 2)';\n",
    "    zpp2=filter_matrix(pp2', 'sigma', 2)';\n",
    "    zpp3=filter_matrix(pp3', 'sigma', 2)';\n",
    "    zpp4=filter_matrix(pp4', 'sigma', 2)';\n",
    "    zpp5=filter_matrix(pp5', 'sigma', 2)';\n",
    "\n",
    "    plot_data{ori_num,1}=zpp1;\n",
    "    plot_data{ori_num,2}=zpp2;\n",
    "    plot_data{ori_num,3}=zpp3;\n",
    "    plot_data{ori_num,4}=zpp4;\n",
    "    plot_data{ori_num,5}=zpp5;\n",
    "end\n",
    "\n",
    "\n",
    "%% plotting\n",
    "\n",
    "for b=1:5;\n",
    "    figure;\n",
    "    for a=1:8;\n",
    "        subplot(1,8,a)\n",
    "        imagesc(plot_data{a,b})\n",
    "    end\n",
    "\n",
    "    set(gcf,'OuterPosition', [3, 270, 2200, 200])\n",
    "    tightfig\n",
    "end\n",
    "\n",
    "\n",
    "%%\n",
    "figure\n",
    "for ori_num=1:8;\n",
    "\n",
    "    subplot(2,4,ori_num)\n",
    "\n",
    "    set(gcf,'color','w')\n",
    "    set(gca,'linewidth',2);\n",
    "\n",
    "    mtemp=mean(plot_data{ori_num});\n",
    "    semtemp = std(plot_data{ori_num})/sqrt(length(plot_data{ori_num}));\n",
    "    time= -300:300-1;\n",
    "    h= boundedline(time, mtemp, semtemp, 'alpha', 'cmap', [0 0.7 0], 'transparency', 0.3)\n",
    "\n",
    "    h.LineWidth = 1;\n",
    "    xlim([-300 300]); ylim([0.02 0.18]);\n",
    "end\n",
    "\n",
    "set(gcf,'OuterPosition', [3, 270, 2000, 800])\n",
    "tightfig\n",
    "\n",
    "% \n",
    "% % GLM regression\n",
    "% Predictors(:,1)=(squareform(visMat))';\n",
    "% Predictors(:,2)=(squareform(magMat))';\n",
    "% \n",
    "% % normalize matrices\n",
    "% Predictors_zscore(:,1)=cosmo_normalize(Predictors(:,1),'zscore');\n",
    "% Predictors_zscore(:,2)=cosmo_normalize(Predictors(:,2),'zscore');\n",
    "% Predictors_intercept=[ones(size(Predictors_zscore,1),1) Predictors_zscore];\n",
    "% \n",
    "% % get betas\n",
    "% betas = Predictors_zscore \\ DM_timepoint_zscore;\n",
    "% betas_intercept = Predictors_intercept \\ DM_timepoint_zscore;\n",
    "% \n",
    "% Betas_Vis(s,t)=betas_intercept(2); %first element is a constant, starting from 2 are predictor betas\n",
    "% Betas_Mag(s,t)=betas_intercept(3);"
   ]
  }
 ],
 "metadata": {
  "kernelspec": {
   "display_name": "Python 3 (ipykernel)",
   "language": "python",
   "name": "python3"
  },
  "language_info": {
   "codemirror_mode": {
    "name": "ipython",
    "version": 3
   },
   "file_extension": ".py",
   "mimetype": "text/x-python",
   "name": "python",
   "nbconvert_exporter": "python",
   "pygments_lexer": "ipython3",
   "version": "3.13.3"
  }
 },
 "nbformat": 4,
 "nbformat_minor": 5
}
