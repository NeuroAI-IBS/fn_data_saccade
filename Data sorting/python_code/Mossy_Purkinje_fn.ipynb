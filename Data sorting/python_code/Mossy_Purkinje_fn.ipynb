{
 "cells": [
  {
   "cell_type": "code",
   "execution_count": 1,
   "id": "4adc551e-97be-431b-8ba4-a9f6130825c8",
   "metadata": {
    "execution": {
     "iopub.execute_input": "2025-06-10T08:14:47.519812Z",
     "iopub.status.busy": "2025-06-10T08:14:47.519529Z",
     "iopub.status.idle": "2025-06-10T08:14:50.999396Z",
     "shell.execute_reply": "2025-06-10T08:14:50.998965Z",
     "shell.execute_reply.started": "2025-06-10T08:14:47.519800Z"
    },
    "scrolled": true
   },
   "outputs": [],
   "source": [
    "import numpy as np\n",
    "import pandas as pd\n",
    "from scipy import optimize\n",
    "from pandas import DataFrame as df\n",
    "import matplotlib.pyplot as plt\n",
    "import analysis_pca\n",
    "from sklearn import linear_model\n",
    "\n",
    "Ts = 1000\n",
    "data_path = r'C:\\Users\\IBS\\Desktop\\python_code_N2'\n",
    "save_path = r'C:\\Users\\IBS\\Desktop\\figures'"
   ]
  },
  {
   "cell_type": "code",
   "execution_count": 2,
   "id": "0658c172-cba6-4d03-810a-031a0ece9546",
   "metadata": {
    "execution": {
     "iopub.execute_input": "2025-06-10T08:14:51.000232Z",
     "iopub.status.busy": "2025-06-10T08:14:50.999778Z",
     "iopub.status.idle": "2025-06-10T08:14:55.388795Z",
     "shell.execute_reply": "2025-06-10T08:14:55.388096Z",
     "shell.execute_reply.started": "2025-06-10T08:14:51.000220Z"
    },
    "scrolled": true
   },
   "outputs": [],
   "source": [
    "# Path to your Excel file\n",
    "SOURCE_DATA_SF3 = 'SupplementaryFigure3.xlsx'\n",
    "\n",
    "# Read specific sheet and ranges\n",
    "mf = pd.read_excel(SOURCE_DATA_SF3, sheet_name='Figure S3b,c,d,f', usecols='A:HY', skiprows=2, nrows=502)\n",
    "pc = pd.read_excel(SOURCE_DATA_SF3, sheet_name='Figure S3b,c,d,f', usecols='HZ:TP', skiprows=2, nrows=502)"
   ]
  },
  {
   "cell_type": "code",
   "execution_count": 3,
   "id": "a91d35bf-37b3-462d-8116-c59c804371cb",
   "metadata": {
    "execution": {
     "iopub.execute_input": "2025-06-10T08:14:55.389480Z",
     "iopub.status.busy": "2025-06-10T08:14:55.389345Z",
     "iopub.status.idle": "2025-06-10T08:14:55.394096Z",
     "shell.execute_reply": "2025-06-10T08:14:55.393249Z",
     "shell.execute_reply.started": "2025-06-10T08:14:55.389470Z"
    },
    "scrolled": true
   },
   "outputs": [],
   "source": [
    "# rate is ssc0, drate is wv0\n",
    "lm_MF = {\n",
    "    'rate': mf.iloc[:, 0:116].to_numpy().T,\n",
    "    'drate': mf.iloc[:, 116:232].to_numpy().T,\n",
    "    'v0': mf.iloc[0, 232],\n",
    "    'label': 'MF'\n",
    "}\n",
    "\n",
    "lm_PC = {\n",
    "    'rate': pc.iloc[:, 0:151].to_numpy().T,\n",
    "    'drate': pc.iloc[:, 151:302].to_numpy().T,\n",
    "    'v0': pc.iloc[0, 302],\n",
    "    'label': 'PC'\n",
    "}\n",
    "\n",
    "# for analyze data\n",
    "data_mf = lm_MF['rate']\n",
    "data_pc = lm_PC['rate']"
   ]
  },
  {
   "cell_type": "code",
   "execution_count": 4,
   "id": "1b6db072-6ce7-477d-aac8-44ee0ab65738",
   "metadata": {
    "execution": {
     "iopub.execute_input": "2025-06-10T08:14:55.395187Z",
     "iopub.status.busy": "2025-06-10T08:14:55.394863Z",
     "iopub.status.idle": "2025-06-10T08:14:56.937765Z",
     "shell.execute_reply": "2025-06-10T08:14:56.937134Z",
     "shell.execute_reply.started": "2025-06-10T08:14:55.395170Z"
    },
    "scrolled": true
   },
   "outputs": [],
   "source": [
    "#For FN PCA\n",
    "\n",
    "import pre_processing\n",
    "\n",
    "ppss = pre_processing.pre_processing(Ts, data_path, save_path)\n",
    "[final_cat, data_cat, val_cat, dur_cat, rejectedXY_cat] = ppss.datasorting_orientation(1)\n",
    "\n",
    "apca = analysis_pca.analysis_pca(Ts, data_cat, save_path)\n",
    "data_cat_sm = apca.smoothing_data()"
   ]
  },
  {
   "cell_type": "code",
   "execution_count": 5,
   "id": "7841065d-ebf9-4412-816b-206b96ff38a3",
   "metadata": {
    "execution": {
     "iopub.execute_input": "2025-06-10T08:14:56.941274Z",
     "iopub.status.busy": "2025-06-10T08:14:56.941089Z",
     "iopub.status.idle": "2025-06-10T08:14:56.946279Z",
     "shell.execute_reply": "2025-06-10T08:14:56.945834Z",
     "shell.execute_reply.started": "2025-06-10T08:14:56.941263Z"
    }
   },
   "outputs": [],
   "source": [
    "# preprocessing\n",
    "\n",
    "data_fn = np.array(np.concatenate(data_cat_sm, axis = 0))\n",
    "pFN = data_fn[:,50:550]\n",
    "\n",
    "pMP = data_mf[:, :500]\n",
    "pPC = data_pc[:, :500]\n",
    "\n",
    "pMPC = np.vstack((pPC, pMP))\n",
    "pMPC = pMPC.T"
   ]
  },
  {
   "cell_type": "markdown",
   "id": "0dfcff2a-098f-4ee9-bc40-a9f760346e8a",
   "metadata": {},
   "source": [
    "## Perform reduced-rank regression (RRR)"
   ]
  },
  {
   "cell_type": "code",
   "execution_count": 25,
   "id": "6152d476-080a-4764-93c1-4009c69d451c",
   "metadata": {
    "execution": {
     "iopub.execute_input": "2025-06-10T08:24:38.338221Z",
     "iopub.status.busy": "2025-06-10T08:24:38.337935Z",
     "iopub.status.idle": "2025-06-10T08:24:41.802533Z",
     "shell.execute_reply": "2025-06-10T08:24:41.801882Z",
     "shell.execute_reply.started": "2025-06-10T08:24:38.338204Z"
    }
   },
   "outputs": [],
   "source": [
    "beta = np.linalg.lstsq(pMPC, pFN.T, rcond=None)[0]\n",
    "U, S, Vt = np.linalg.svd(pMPC @ beta)\n",
    "\n",
    "rmse_t = []\n",
    "for rank in range(V.shape[1]):\n",
    "    V = Vt[:rank,:]\n",
    "    rmse = np.mean((pMPC @ beta @ V.T @ V - pFN.T) ** 2)\n",
    "    rmse_t.append(rmse)\n",
    "\n",
    "rmse_t = np.array(rmse_t)"
   ]
  },
  {
   "cell_type": "code",
   "execution_count": 32,
   "id": "2ba6b712-9064-493c-92f9-292333ddf81b",
   "metadata": {
    "execution": {
     "iopub.execute_input": "2025-06-10T08:29:00.087930Z",
     "iopub.status.busy": "2025-06-10T08:29:00.087544Z",
     "iopub.status.idle": "2025-06-10T08:29:00.140473Z",
     "shell.execute_reply": "2025-06-10T08:29:00.139975Z",
     "shell.execute_reply.started": "2025-06-10T08:29:00.087916Z"
    }
   },
   "outputs": [
    {
     "data": {
      "text/plain": [
       "[<matplotlib.lines.Line2D at 0x291e971df90>]"
      ]
     },
     "execution_count": 32,
     "metadata": {},
     "output_type": "execute_result"
    },
    {
     "data": {
      "image/png": "[encoded data removed]",
      "text/plain": [
       "<Figure size 640x480 with 1 Axes>"
      ]
     },
     "metadata": {},
     "output_type": "display_data"
    }
   ],
   "source": [
    "plt.plot(rmse_t[:10])"
   ]
  },
  {
   "cell_type": "code",
   "execution_count": null,
   "id": "d5272b07-0af3-4514-9cfc-e5bf565c53df",
   "metadata": {},
   "outputs": [],
   "source": []
  }
 ],
 "metadata": {
  "kernelspec": {
   "display_name": "Python 3 (ipykernel)",
   "language": "python",
   "name": "python3"
  },
  "language_info": {
   "codemirror_mode": {
    "name": "ipython",
    "version": 3
   },
   "file_extension": ".py",
   "mimetype": "text/x-python",
   "name": "python",
   "nbconvert_exporter": "python",
   "pygments_lexer": "ipython3",
   "version": "3.13.3"
  }
 },
 "nbformat": 4,
 "nbformat_minor": 5
}
